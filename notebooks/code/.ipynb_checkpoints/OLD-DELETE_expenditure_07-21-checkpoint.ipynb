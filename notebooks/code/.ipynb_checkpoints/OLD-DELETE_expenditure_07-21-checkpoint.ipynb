{
 "cells": [
  {
   "cell_type": "code",
   "execution_count": 84,
   "id": "1e55d98f-c9dd-4677-a795-daf0049cd73d",
   "metadata": {},
   "outputs": [],
   "source": [
    "import pandas as pd\n",
    "import numpy as np\n",
    "import matplotlib.pyplot as plt\n",
    "import seaborn as sns\n",
    "\n",
    "pd.set_option('display.max_rows', None)\n",
    "pd.set_option('display.max_columns', None)"
   ]
  },
  {
   "cell_type": "code",
   "execution_count": 85,
   "id": "5658f10e-42c8-41f6-a6bf-ecc4eaae6456",
   "metadata": {},
   "outputs": [
    {
     "ename": "ValueError",
     "evalue": "Worksheet named '2007' not found",
     "output_type": "error",
     "traceback": [
      "\u001b[1;31m---------------------------------------------------------------------------\u001b[0m",
      "\u001b[1;31mValueError\u001b[0m                                Traceback (most recent call last)",
      "\u001b[1;32m~\\AppData\\Local\\Temp/ipykernel_4996/3380690139.py\u001b[0m in \u001b[0;36m<module>\u001b[1;34m\u001b[0m\n\u001b[1;32m----> 1\u001b[1;33m \u001b[0mexp_07\u001b[0m \u001b[1;33m=\u001b[0m \u001b[0mpd\u001b[0m\u001b[1;33m.\u001b[0m\u001b[0mread_excel\u001b[0m\u001b[1;33m(\u001b[0m\u001b[1;34m'../data/raw_data/AGG_GDX_FY07-21.xlsx'\u001b[0m\u001b[1;33m,\u001b[0m \u001b[0msheet_name\u001b[0m \u001b[1;33m=\u001b[0m \u001b[1;34m'2007'\u001b[0m\u001b[1;33m)\u001b[0m\u001b[1;33m\u001b[0m\u001b[1;33m\u001b[0m\u001b[0m\n\u001b[0m\u001b[0;32m      2\u001b[0m \u001b[0mexp_08\u001b[0m \u001b[1;33m=\u001b[0m \u001b[0mpd\u001b[0m\u001b[1;33m.\u001b[0m\u001b[0mread_excel\u001b[0m\u001b[1;33m(\u001b[0m\u001b[1;34m'../data/raw_data/AGG_GDX_FY07-21.xlsx'\u001b[0m\u001b[1;33m,\u001b[0m \u001b[0msheet_name\u001b[0m \u001b[1;33m=\u001b[0m \u001b[1;34m'2008'\u001b[0m\u001b[1;33m)\u001b[0m\u001b[1;33m\u001b[0m\u001b[1;33m\u001b[0m\u001b[0m\n\u001b[0;32m      3\u001b[0m \u001b[0mexp_09\u001b[0m \u001b[1;33m=\u001b[0m \u001b[0mpd\u001b[0m\u001b[1;33m.\u001b[0m\u001b[0mread_excel\u001b[0m\u001b[1;33m(\u001b[0m\u001b[1;34m'../data/raw_data/AGG_GDX_FY07-21.xlsx'\u001b[0m\u001b[1;33m,\u001b[0m \u001b[0msheet_name\u001b[0m \u001b[1;33m=\u001b[0m \u001b[1;34m'2009'\u001b[0m\u001b[1;33m)\u001b[0m\u001b[1;33m\u001b[0m\u001b[1;33m\u001b[0m\u001b[0m\n\u001b[0;32m      4\u001b[0m \u001b[0mexp_10\u001b[0m \u001b[1;33m=\u001b[0m \u001b[0mpd\u001b[0m\u001b[1;33m.\u001b[0m\u001b[0mread_excel\u001b[0m\u001b[1;33m(\u001b[0m\u001b[1;34m'../data/raw_data/AGG_GDX_FY07-21.xlsx'\u001b[0m\u001b[1;33m,\u001b[0m \u001b[0msheet_name\u001b[0m \u001b[1;33m=\u001b[0m \u001b[1;34m'2010'\u001b[0m\u001b[1;33m)\u001b[0m\u001b[1;33m\u001b[0m\u001b[1;33m\u001b[0m\u001b[0m\n\u001b[0;32m      5\u001b[0m \u001b[0mexp_11\u001b[0m \u001b[1;33m=\u001b[0m \u001b[0mpd\u001b[0m\u001b[1;33m.\u001b[0m\u001b[0mread_excel\u001b[0m\u001b[1;33m(\u001b[0m\u001b[1;34m'../data/raw_data/AGG_GDX_FY07-21.xlsx'\u001b[0m\u001b[1;33m,\u001b[0m \u001b[0msheet_name\u001b[0m \u001b[1;33m=\u001b[0m \u001b[1;34m'2011'\u001b[0m\u001b[1;33m)\u001b[0m\u001b[1;33m\u001b[0m\u001b[1;33m\u001b[0m\u001b[0m\n",
      "\u001b[1;32m~\\anaconda3\\lib\\site-packages\\pandas\\util\\_decorators.py\u001b[0m in \u001b[0;36mwrapper\u001b[1;34m(*args, **kwargs)\u001b[0m\n\u001b[0;32m    309\u001b[0m                     \u001b[0mstacklevel\u001b[0m\u001b[1;33m=\u001b[0m\u001b[0mstacklevel\u001b[0m\u001b[1;33m,\u001b[0m\u001b[1;33m\u001b[0m\u001b[1;33m\u001b[0m\u001b[0m\n\u001b[0;32m    310\u001b[0m                 )\n\u001b[1;32m--> 311\u001b[1;33m             \u001b[1;32mreturn\u001b[0m \u001b[0mfunc\u001b[0m\u001b[1;33m(\u001b[0m\u001b[1;33m*\u001b[0m\u001b[0margs\u001b[0m\u001b[1;33m,\u001b[0m \u001b[1;33m**\u001b[0m\u001b[0mkwargs\u001b[0m\u001b[1;33m)\u001b[0m\u001b[1;33m\u001b[0m\u001b[1;33m\u001b[0m\u001b[0m\n\u001b[0m\u001b[0;32m    312\u001b[0m \u001b[1;33m\u001b[0m\u001b[0m\n\u001b[0;32m    313\u001b[0m         \u001b[1;32mreturn\u001b[0m \u001b[0mwrapper\u001b[0m\u001b[1;33m\u001b[0m\u001b[1;33m\u001b[0m\u001b[0m\n",
      "\u001b[1;32m~\\anaconda3\\lib\\site-packages\\pandas\\io\\excel\\_base.py\u001b[0m in \u001b[0;36mread_excel\u001b[1;34m(io, sheet_name, header, names, index_col, usecols, squeeze, dtype, engine, converters, true_values, false_values, skiprows, nrows, na_values, keep_default_na, na_filter, verbose, parse_dates, date_parser, thousands, comment, skipfooter, convert_float, mangle_dupe_cols, storage_options)\u001b[0m\n\u001b[0;32m    370\u001b[0m \u001b[1;33m\u001b[0m\u001b[0m\n\u001b[0;32m    371\u001b[0m     \u001b[1;32mtry\u001b[0m\u001b[1;33m:\u001b[0m\u001b[1;33m\u001b[0m\u001b[1;33m\u001b[0m\u001b[0m\n\u001b[1;32m--> 372\u001b[1;33m         data = io.parse(\n\u001b[0m\u001b[0;32m    373\u001b[0m             \u001b[0msheet_name\u001b[0m\u001b[1;33m=\u001b[0m\u001b[0msheet_name\u001b[0m\u001b[1;33m,\u001b[0m\u001b[1;33m\u001b[0m\u001b[1;33m\u001b[0m\u001b[0m\n\u001b[0;32m    374\u001b[0m             \u001b[0mheader\u001b[0m\u001b[1;33m=\u001b[0m\u001b[0mheader\u001b[0m\u001b[1;33m,\u001b[0m\u001b[1;33m\u001b[0m\u001b[1;33m\u001b[0m\u001b[0m\n",
      "\u001b[1;32m~\\anaconda3\\lib\\site-packages\\pandas\\io\\excel\\_base.py\u001b[0m in \u001b[0;36mparse\u001b[1;34m(self, sheet_name, header, names, index_col, usecols, squeeze, converters, true_values, false_values, skiprows, nrows, na_values, parse_dates, date_parser, thousands, comment, skipfooter, convert_float, mangle_dupe_cols, **kwds)\u001b[0m\n\u001b[0;32m   1270\u001b[0m             \u001b[0mDataFrame\u001b[0m \u001b[1;32mfrom\u001b[0m \u001b[0mthe\u001b[0m \u001b[0mpassed\u001b[0m \u001b[1;32min\u001b[0m \u001b[0mExcel\u001b[0m \u001b[0mfile\u001b[0m\u001b[1;33m.\u001b[0m\u001b[1;33m\u001b[0m\u001b[1;33m\u001b[0m\u001b[0m\n\u001b[0;32m   1271\u001b[0m         \"\"\"\n\u001b[1;32m-> 1272\u001b[1;33m         return self._reader.parse(\n\u001b[0m\u001b[0;32m   1273\u001b[0m             \u001b[0msheet_name\u001b[0m\u001b[1;33m=\u001b[0m\u001b[0msheet_name\u001b[0m\u001b[1;33m,\u001b[0m\u001b[1;33m\u001b[0m\u001b[1;33m\u001b[0m\u001b[0m\n\u001b[0;32m   1274\u001b[0m             \u001b[0mheader\u001b[0m\u001b[1;33m=\u001b[0m\u001b[0mheader\u001b[0m\u001b[1;33m,\u001b[0m\u001b[1;33m\u001b[0m\u001b[1;33m\u001b[0m\u001b[0m\n",
      "\u001b[1;32m~\\anaconda3\\lib\\site-packages\\pandas\\io\\excel\\_base.py\u001b[0m in \u001b[0;36mparse\u001b[1;34m(self, sheet_name, header, names, index_col, usecols, squeeze, dtype, true_values, false_values, skiprows, nrows, na_values, verbose, parse_dates, date_parser, thousands, comment, skipfooter, convert_float, mangle_dupe_cols, **kwds)\u001b[0m\n\u001b[0;32m    533\u001b[0m \u001b[1;33m\u001b[0m\u001b[0m\n\u001b[0;32m    534\u001b[0m             \u001b[1;32mif\u001b[0m \u001b[0misinstance\u001b[0m\u001b[1;33m(\u001b[0m\u001b[0masheetname\u001b[0m\u001b[1;33m,\u001b[0m \u001b[0mstr\u001b[0m\u001b[1;33m)\u001b[0m\u001b[1;33m:\u001b[0m\u001b[1;33m\u001b[0m\u001b[1;33m\u001b[0m\u001b[0m\n\u001b[1;32m--> 535\u001b[1;33m                 \u001b[0msheet\u001b[0m \u001b[1;33m=\u001b[0m \u001b[0mself\u001b[0m\u001b[1;33m.\u001b[0m\u001b[0mget_sheet_by_name\u001b[0m\u001b[1;33m(\u001b[0m\u001b[0masheetname\u001b[0m\u001b[1;33m)\u001b[0m\u001b[1;33m\u001b[0m\u001b[1;33m\u001b[0m\u001b[0m\n\u001b[0m\u001b[0;32m    536\u001b[0m             \u001b[1;32melse\u001b[0m\u001b[1;33m:\u001b[0m  \u001b[1;31m# assume an integer if not a string\u001b[0m\u001b[1;33m\u001b[0m\u001b[1;33m\u001b[0m\u001b[0m\n\u001b[0;32m    537\u001b[0m                 \u001b[0msheet\u001b[0m \u001b[1;33m=\u001b[0m \u001b[0mself\u001b[0m\u001b[1;33m.\u001b[0m\u001b[0mget_sheet_by_index\u001b[0m\u001b[1;33m(\u001b[0m\u001b[0masheetname\u001b[0m\u001b[1;33m)\u001b[0m\u001b[1;33m\u001b[0m\u001b[1;33m\u001b[0m\u001b[0m\n",
      "\u001b[1;32m~\\anaconda3\\lib\\site-packages\\pandas\\io\\excel\\_openpyxl.py\u001b[0m in \u001b[0;36mget_sheet_by_name\u001b[1;34m(self, name)\u001b[0m\n\u001b[0;32m    540\u001b[0m \u001b[1;33m\u001b[0m\u001b[0m\n\u001b[0;32m    541\u001b[0m     \u001b[1;32mdef\u001b[0m \u001b[0mget_sheet_by_name\u001b[0m\u001b[1;33m(\u001b[0m\u001b[0mself\u001b[0m\u001b[1;33m,\u001b[0m \u001b[0mname\u001b[0m\u001b[1;33m:\u001b[0m \u001b[0mstr\u001b[0m\u001b[1;33m)\u001b[0m\u001b[1;33m:\u001b[0m\u001b[1;33m\u001b[0m\u001b[1;33m\u001b[0m\u001b[0m\n\u001b[1;32m--> 542\u001b[1;33m         \u001b[0mself\u001b[0m\u001b[1;33m.\u001b[0m\u001b[0mraise_if_bad_sheet_by_name\u001b[0m\u001b[1;33m(\u001b[0m\u001b[0mname\u001b[0m\u001b[1;33m)\u001b[0m\u001b[1;33m\u001b[0m\u001b[1;33m\u001b[0m\u001b[0m\n\u001b[0m\u001b[0;32m    543\u001b[0m         \u001b[1;32mreturn\u001b[0m \u001b[0mself\u001b[0m\u001b[1;33m.\u001b[0m\u001b[0mbook\u001b[0m\u001b[1;33m[\u001b[0m\u001b[0mname\u001b[0m\u001b[1;33m]\u001b[0m\u001b[1;33m\u001b[0m\u001b[1;33m\u001b[0m\u001b[0m\n\u001b[0;32m    544\u001b[0m \u001b[1;33m\u001b[0m\u001b[0m\n",
      "\u001b[1;32m~\\anaconda3\\lib\\site-packages\\pandas\\io\\excel\\_base.py\u001b[0m in \u001b[0;36mraise_if_bad_sheet_by_name\u001b[1;34m(self, name)\u001b[0m\n\u001b[0;32m    472\u001b[0m     \u001b[1;32mdef\u001b[0m \u001b[0mraise_if_bad_sheet_by_name\u001b[0m\u001b[1;33m(\u001b[0m\u001b[0mself\u001b[0m\u001b[1;33m,\u001b[0m \u001b[0mname\u001b[0m\u001b[1;33m:\u001b[0m \u001b[0mstr\u001b[0m\u001b[1;33m)\u001b[0m \u001b[1;33m->\u001b[0m \u001b[1;32mNone\u001b[0m\u001b[1;33m:\u001b[0m\u001b[1;33m\u001b[0m\u001b[1;33m\u001b[0m\u001b[0m\n\u001b[0;32m    473\u001b[0m         \u001b[1;32mif\u001b[0m \u001b[0mname\u001b[0m \u001b[1;32mnot\u001b[0m \u001b[1;32min\u001b[0m \u001b[0mself\u001b[0m\u001b[1;33m.\u001b[0m\u001b[0msheet_names\u001b[0m\u001b[1;33m:\u001b[0m\u001b[1;33m\u001b[0m\u001b[1;33m\u001b[0m\u001b[0m\n\u001b[1;32m--> 474\u001b[1;33m             \u001b[1;32mraise\u001b[0m \u001b[0mValueError\u001b[0m\u001b[1;33m(\u001b[0m\u001b[1;34mf\"Worksheet named '{name}' not found\"\u001b[0m\u001b[1;33m)\u001b[0m\u001b[1;33m\u001b[0m\u001b[1;33m\u001b[0m\u001b[0m\n\u001b[0m\u001b[0;32m    475\u001b[0m \u001b[1;33m\u001b[0m\u001b[0m\n\u001b[0;32m    476\u001b[0m     def parse(\n",
      "\u001b[1;31mValueError\u001b[0m: Worksheet named '2007' not found"
     ]
    }
   ],
   "source": [
    "exp_07 = pd.read_excel('../data/raw_data/AGG_GDX_FY07-21.xlsx', sheet_name = '2007')\n",
    "exp_08 = pd.read_excel('../data/raw_data/AGG_GDX_FY07-21.xlsx', sheet_name = '2008')\n",
    "exp_09 = pd.read_excel('../data/raw_data/AGG_GDX_FY07-21.xlsx', sheet_name = '2009')\n",
    "exp_10 = pd.read_excel('../data/raw_data/AGG_GDX_FY07-21.xlsx', sheet_name = '2010')\n",
    "exp_11 = pd.read_excel('../data/raw_data/AGG_GDX_FY07-21.xlsx', sheet_name = '2011')\n",
    "exp_12 = pd.read_excel('../data/raw_data/AGG_GDX_FY07-21.xlsx', sheet_name = '2012')\n",
    "exp_13 = pd.read_excel('../data/raw_data/AGG_GDX_FY07-21.xlsx', sheet_name = '2013')\n",
    "exp_14 = pd.read_excel('../data/raw_data/AGG_GDX_FY07-21.xlsx', sheet_name = '2014')\n",
    "exp_15 = pd.read_excel('../data/raw_data/AGG_GDX_FY07-21.xlsx', sheet_name = '2015')\n",
    "exp_16 = pd.read_excel('../data/raw_data/AGG_GDX_FY07-21.xlsx', sheet_name = '2016')\n",
    "exp_17 = pd.read_excel('../data/raw_data/AGG_GDX_FY07-21.xlsx', sheet_name = '2017')\n",
    "exp_18 = pd.read_excel('../data/raw_data/AGG_GDX_FY07-21.xlsx', sheet_name = '2018')\n",
    "exp_19 = pd.read_excel('../data/raw_data/AGG_GDX_FY07-21.xlsx', sheet_name = '2019')\n",
    "exp_20 = pd.read_excel('../data/raw_data/AGG_GDX_FY07-21.xlsx', sheet_name = '2020')\n",
    "exp_21 = pd.read_excel('../data/raw_data/AGG_GDX_FY07-21.xlsx', sheet_name = '2021')"
   ]
  },
  {
   "cell_type": "code",
   "execution_count": 72,
   "id": "bff12294-4528-4f8a-aa31-9b75e08b4054",
   "metadata": {},
   "outputs": [],
   "source": [
    "exp_list = [exp_07, exp_08, exp_09, exp_10, exp_11, exp_12, exp_13, exp_14, exp_15, exp_16, exp_17, exp_18, exp_19, exp_20, exp_21]"
   ]
  },
  {
   "cell_type": "code",
   "execution_count": null,
   "id": "12ba62ba-4a25-41e4-84ca-bc6b7269e072",
   "metadata": {},
   "outputs": [],
   "source": []
  },
  {
   "cell_type": "code",
   "execution_count": 77,
   "id": "24cd1253-f08e-4e3c-aa97-9dc5da0eb00a",
   "metadata": {},
   "outputs": [],
   "source": [
    "exptest = exp_21 = pd.read_excel('../data/raw_data/AGG_GDX_FY07-21.xlsx')"
   ]
  },
  {
   "cell_type": "code",
   "execution_count": 78,
   "id": "e430328b-bb4b-4e13-a4fd-c4752ef767d3",
   "metadata": {},
   "outputs": [
    {
     "ename": "AttributeError",
     "evalue": "'DataFrame' object has no attribute 'sheet_names'",
     "output_type": "error",
     "traceback": [
      "\u001b[1;31m---------------------------------------------------------------------------\u001b[0m",
      "\u001b[1;31mAttributeError\u001b[0m                            Traceback (most recent call last)",
      "\u001b[1;32m~\\AppData\\Local\\Temp/ipykernel_4996/2460728401.py\u001b[0m in \u001b[0;36m<module>\u001b[1;34m\u001b[0m\n\u001b[1;32m----> 1\u001b[1;33m \u001b[0mexptest\u001b[0m\u001b[1;33m.\u001b[0m\u001b[0msheet_names\u001b[0m\u001b[1;33m\u001b[0m\u001b[1;33m\u001b[0m\u001b[0m\n\u001b[0m",
      "\u001b[1;32m~\\anaconda3\\lib\\site-packages\\pandas\\core\\generic.py\u001b[0m in \u001b[0;36m__getattr__\u001b[1;34m(self, name)\u001b[0m\n\u001b[0;32m   5485\u001b[0m         ):\n\u001b[0;32m   5486\u001b[0m             \u001b[1;32mreturn\u001b[0m \u001b[0mself\u001b[0m\u001b[1;33m[\u001b[0m\u001b[0mname\u001b[0m\u001b[1;33m]\u001b[0m\u001b[1;33m\u001b[0m\u001b[1;33m\u001b[0m\u001b[0m\n\u001b[1;32m-> 5487\u001b[1;33m         \u001b[1;32mreturn\u001b[0m \u001b[0mobject\u001b[0m\u001b[1;33m.\u001b[0m\u001b[0m__getattribute__\u001b[0m\u001b[1;33m(\u001b[0m\u001b[0mself\u001b[0m\u001b[1;33m,\u001b[0m \u001b[0mname\u001b[0m\u001b[1;33m)\u001b[0m\u001b[1;33m\u001b[0m\u001b[1;33m\u001b[0m\u001b[0m\n\u001b[0m\u001b[0;32m   5488\u001b[0m \u001b[1;33m\u001b[0m\u001b[0m\n\u001b[0;32m   5489\u001b[0m     \u001b[1;32mdef\u001b[0m \u001b[0m__setattr__\u001b[0m\u001b[1;33m(\u001b[0m\u001b[0mself\u001b[0m\u001b[1;33m,\u001b[0m \u001b[0mname\u001b[0m\u001b[1;33m:\u001b[0m \u001b[0mstr\u001b[0m\u001b[1;33m,\u001b[0m \u001b[0mvalue\u001b[0m\u001b[1;33m)\u001b[0m \u001b[1;33m->\u001b[0m \u001b[1;32mNone\u001b[0m\u001b[1;33m:\u001b[0m\u001b[1;33m\u001b[0m\u001b[1;33m\u001b[0m\u001b[0m\n",
      "\u001b[1;31mAttributeError\u001b[0m: 'DataFrame' object has no attribute 'sheet_names'"
     ]
    }
   ],
   "source": [
    "exptest.sheet_names"
   ]
  },
  {
   "cell_type": "code",
   "execution_count": 81,
   "id": "dbd5d7eb-4939-434d-8b37-b0c76f942620",
   "metadata": {},
   "outputs": [],
   "source": [
    "#LIST OF DATAFRAMES, NO SHEET NAME\n",
    "# # referenced for loading all sheets into a list:     https://towardsdatascience.com/a-simple-trick-to-load-multiple-excel-worksheets-in-pandas-3fae4124345b\n",
    "# filepath = '../data/raw_data/AGG_GDX_FY07-21.xlsx'\n",
    "# f = pd.ExcelFile(filepath)\n",
    "# exp_list = []\n",
    "\n",
    "# for sheet in f.sheet_names:\n",
    "#     df = f.parse(sheet)\n",
    "#     exp_list.append(df)\n",
    "#exp_list"
   ]
  },
  {
   "cell_type": "code",
   "execution_count": null,
   "id": "2aaab925-ed77-47db-b3d1-84df39477e2d",
   "metadata": {},
   "outputs": [],
   "source": []
  },
  {
   "cell_type": "code",
   "execution_count": null,
   "id": "30585534-3f03-4dd9-8df1-6a649c64d754",
   "metadata": {},
   "outputs": [],
   "source": [
    "exp_list = []\n",
    "\n",
    "for sheet in "
   ]
  },
  {
   "cell_type": "code",
   "execution_count": null,
   "id": "cb833e2f-3265-48e4-8394-b7f605b4454b",
   "metadata": {},
   "outputs": [],
   "source": []
  },
  {
   "cell_type": "code",
   "execution_count": 75,
   "id": "1765e954-3f0c-407a-b055-48c0aa338f80",
   "metadata": {},
   "outputs": [
    {
     "data": {
      "text/html": [
       "<div>\n",
       "<style scoped>\n",
       "    .dataframe tbody tr th:only-of-type {\n",
       "        vertical-align: middle;\n",
       "    }\n",
       "\n",
       "    .dataframe tbody tr th {\n",
       "        vertical-align: top;\n",
       "    }\n",
       "\n",
       "    .dataframe thead th {\n",
       "        text-align: right;\n",
       "    }\n",
       "</style>\n",
       "<table border=\"1\" class=\"dataframe\">\n",
       "  <thead>\n",
       "    <tr style=\"text-align: right;\">\n",
       "      <th></th>\n",
       "      <th>State</th>\n",
       "      <th>Veteran Population</th>\n",
       "      <th>Total Expenditure</th>\n",
       "      <th>Compensation &amp; Pension</th>\n",
       "      <th>Construction</th>\n",
       "      <th>Education &amp; Vocational Rehabilitation/ Employment</th>\n",
       "      <th>Loan Guaranty#</th>\n",
       "      <th>General Operating Expenses</th>\n",
       "      <th>Insurance &amp; Indemnities</th>\n",
       "      <th>Medical Care</th>\n",
       "      <th>Unique Patients</th>\n",
       "    </tr>\n",
       "  </thead>\n",
       "  <tbody>\n",
       "    <tr>\n",
       "      <th>0</th>\n",
       "      <td>Totals</td>\n",
       "      <td>19088805</td>\n",
       "      <td>224121985</td>\n",
       "      <td>111805034</td>\n",
       "      <td>1677464</td>\n",
       "      <td>11583465</td>\n",
       "      <td>873991</td>\n",
       "      <td>8750909</td>\n",
       "      <td>1213601</td>\n",
       "      <td>88217521</td>\n",
       "      <td>6322423</td>\n",
       "    </tr>\n",
       "    <tr>\n",
       "      <th>1</th>\n",
       "      <td>Alabama</td>\n",
       "      <td>357520</td>\n",
       "      <td>4532007</td>\n",
       "      <td>2792683</td>\n",
       "      <td>1461</td>\n",
       "      <td>193092</td>\n",
       "      <td>$               -</td>\n",
       "      <td>19995</td>\n",
       "      <td>21607</td>\n",
       "      <td>1503169</td>\n",
       "      <td>122475</td>\n",
       "    </tr>\n",
       "    <tr>\n",
       "      <th>2</th>\n",
       "      <td>Alaska</td>\n",
       "      <td>67388</td>\n",
       "      <td>777283</td>\n",
       "      <td>330436</td>\n",
       "      <td>3735</td>\n",
       "      <td>53620</td>\n",
       "      <td>$               -</td>\n",
       "      <td>23751</td>\n",
       "      <td>1686</td>\n",
       "      <td>364054</td>\n",
       "      <td>22290</td>\n",
       "    </tr>\n",
       "    <tr>\n",
       "      <th>3</th>\n",
       "      <td>Arizona</td>\n",
       "      <td>493453</td>\n",
       "      <td>5359926</td>\n",
       "      <td>2684560</td>\n",
       "      <td>35196</td>\n",
       "      <td>276519</td>\n",
       "      <td>$               -</td>\n",
       "      <td>50156</td>\n",
       "      <td>26818</td>\n",
       "      <td>2286677</td>\n",
       "      <td>171362</td>\n",
       "    </tr>\n",
       "    <tr>\n",
       "      <th>4</th>\n",
       "      <td>Arkansas</td>\n",
       "      <td>195685</td>\n",
       "      <td>2732008</td>\n",
       "      <td>1396311</td>\n",
       "      <td>2170</td>\n",
       "      <td>74311</td>\n",
       "      <td>$               -</td>\n",
       "      <td>16520</td>\n",
       "      <td>11517</td>\n",
       "      <td>1231178</td>\n",
       "      <td>84471</td>\n",
       "    </tr>\n",
       "  </tbody>\n",
       "</table>\n",
       "</div>"
      ],
      "text/plain": [
       "      State  Veteran Population  Total Expenditure  Compensation & Pension  \\\n",
       "0    Totals            19088805          224121985               111805034   \n",
       "1   Alabama              357520            4532007                 2792683   \n",
       "2    Alaska               67388             777283                  330436   \n",
       "3   Arizona              493453            5359926                 2684560   \n",
       "4  Arkansas              195685            2732008                 1396311   \n",
       "\n",
       "  Construction  Education & Vocational Rehabilitation/ Employment  \\\n",
       "0      1677464                                           11583465   \n",
       "1         1461                                             193092   \n",
       "2         3735                                              53620   \n",
       "3        35196                                             276519   \n",
       "4         2170                                              74311   \n",
       "\n",
       "       Loan Guaranty#  General Operating Expenses  Insurance & Indemnities  \\\n",
       "0              873991                     8750909                  1213601   \n",
       "1   $               -                       19995                    21607   \n",
       "2   $               -                       23751                     1686   \n",
       "3   $               -                       50156                    26818   \n",
       "4   $               -                       16520                    11517   \n",
       "\n",
       "   Medical Care  Unique Patients  \n",
       "0      88217521          6322423  \n",
       "1       1503169           122475  \n",
       "2        364054            22290  \n",
       "3       2286677           171362  \n",
       "4       1231178            84471  "
      ]
     },
     "execution_count": 75,
     "metadata": {},
     "output_type": "execute_result"
    }
   ],
   "source": [
    "exp_21.head()"
   ]
  },
  {
   "cell_type": "code",
   "execution_count": null,
   "id": "e7873277-e5c9-4671-b4a1-57380b6b72b1",
   "metadata": {},
   "outputs": [],
   "source": []
  },
  {
   "cell_type": "code",
   "execution_count": 24,
   "id": "9b84eb47-12e9-4138-8a96-fdfaaab316f3",
   "metadata": {},
   "outputs": [],
   "source": [
    "#LIST OF DATAFRAMES, NO SHEET NAME\n",
    "# # referenced for loading all sheets into a list:     https://towardsdatascience.com/a-simple-trick-to-load-multiple-excel-worksheets-in-pandas-3fae4124345b\n",
    "# filepath = '../data/raw_data/AGG_GDX_FY07-21.xlsx'\n",
    "# f = pd.ExcelFile(filepath)\n",
    "# exp_list = []\n",
    "\n",
    "# for sheet in f.sheet_names:\n",
    "#     df = f.parse(sheet)\n",
    "#     exp_list.append(df)\n",
    "#exp_list\n",
    "\n",
    "\n",
    "\n",
    "#DICTIONARY OF DATAFRAMES, HARD TO PARSE\n",
    "##Dictionary of Dataframes, revisit if time\n",
    "# exp = pd.read_excel('../data/raw_data/AGG_GDX_FY07-21.xlsx', sheet_name = ['07', '08', '09'])\n",
    "# [df for df, item in exp.items() ]\n",
    "# exp = {exp[df].drop(columns='Loan Guaranty#') for df, item in exp.items()}\n",
    "# exp[1]  #.drop(columns='Loan Guaranty#')  #.head()\n",
    "# [key.drop(columns=['Compensation & Pension']) for key,item in exp.items()]\n",
    "# [item for key, item in exp.items()]\n",
    "# exp.keys()"
   ]
  },
  {
   "cell_type": "code",
   "execution_count": null,
   "id": "9dbd0455-e227-43c9-8dca-7f92afc094fd",
   "metadata": {},
   "outputs": [],
   "source": []
  }
 ],
 "metadata": {
  "kernelspec": {
   "display_name": "Python 3 (ipykernel)",
   "language": "python",
   "name": "python3"
  },
  "language_info": {
   "codemirror_mode": {
    "name": "ipython",
    "version": 3
   },
   "file_extension": ".py",
   "mimetype": "text/x-python",
   "name": "python",
   "nbconvert_exporter": "python",
   "pygments_lexer": "ipython3",
   "version": "3.9.7"
  }
 },
 "nbformat": 4,
 "nbformat_minor": 5
}
