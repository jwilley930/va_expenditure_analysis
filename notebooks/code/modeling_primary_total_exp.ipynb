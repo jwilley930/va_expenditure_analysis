{
 "cells": [
  {
   "cell_type": "markdown",
   "id": "88491119-1e60-43b8-8c20-23bfa4bffc01",
   "metadata": {},
   "source": [
    "# Modeling for Total Expenditures"
   ]
  },
  {
   "cell_type": "code",
   "execution_count": 1,
   "id": "05764e3f-1247-46bd-a36c-64976dbfe78b",
   "metadata": {},
   "outputs": [],
   "source": [
    "import pandas as pd\n",
    "import numpy as np\n",
    "import matplotlib.pyplot as plt\n",
    "import seaborn as sns\n",
    "\n",
    "from sklearn.model_selection import train_test_split, cross_val_score, GridSearchCV, KFold\n",
    "from sklearn.preprocessing import StandardScaler\n",
    "from sklearn.dummy import DummyRegressor\n",
    "\n",
    "from sklearn.metrics import mean_squared_error, r2_score, mean_absolute_error\n",
    "\n",
    "from sklearn.linear_model import LinearRegression, Ridge, Lasso, RidgeCV, LassoCV, ElasticNet\n",
    "from sklearn.svm import SVR\n",
    "from sklearn.tree import DecisionTreeRegressor\n",
    "from sklearn.ensemble import RandomForestRegressor\n",
    "from xgboost import XGBRegressor\n",
    "\n",
    "# from sklearn.model_selection import cross_val_score\n",
    "# \n",
    "\n",
    "# pd.set_option('display.max_rows', None)\n",
    "pd.set_option('display.max_columns', None)"
   ]
  },
  {
   "cell_type": "code",
   "execution_count": 2,
   "id": "737a06b2-f615-43ef-b2b6-15b93324962f",
   "metadata": {},
   "outputs": [
    {
     "data": {
      "text/html": [
       "<div>\n",
       "<style scoped>\n",
       "    .dataframe tbody tr th:only-of-type {\n",
       "        vertical-align: middle;\n",
       "    }\n",
       "\n",
       "    .dataframe tbody tr th {\n",
       "        vertical-align: top;\n",
       "    }\n",
       "\n",
       "    .dataframe thead th {\n",
       "        text-align: right;\n",
       "    }\n",
       "</style>\n",
       "<table border=\"1\" class=\"dataframe\">\n",
       "  <thead>\n",
       "    <tr style=\"text-align: right;\">\n",
       "      <th></th>\n",
       "      <th>state</th>\n",
       "      <th>total_exp</th>\n",
       "      <th>medical_care_exp</th>\n",
       "      <th>edu_training_exp</th>\n",
       "      <th>exp_per_vet</th>\n",
       "      <th>county_pop</th>\n",
       "      <th>vet_pop</th>\n",
       "      <th>med_patients</th>\n",
       "      <th>state_va_fac</th>\n",
       "      <th>hs_grad_pct</th>\n",
       "      <th>clg_grad_pct</th>\n",
       "      <th>median_income</th>\n",
       "      <th>poverty_pct</th>\n",
       "      <th>unemployment_pct</th>\n",
       "      <th>severe_housing_problems_pct</th>\n",
       "      <th>smokers_pct</th>\n",
       "      <th>obesity_pct</th>\n",
       "      <th>inactive_pct</th>\n",
       "      <th>excess_alcohol_pct</th>\n",
       "      <th>diabetes_pct</th>\n",
       "      <th>food_insecure_pct</th>\n",
       "      <th>age_under18_pct</th>\n",
       "      <th>age_over65_pct</th>\n",
       "      <th>rural_pct</th>\n",
       "    </tr>\n",
       "    <tr>\n",
       "      <th>county</th>\n",
       "      <th></th>\n",
       "      <th></th>\n",
       "      <th></th>\n",
       "      <th></th>\n",
       "      <th></th>\n",
       "      <th></th>\n",
       "      <th></th>\n",
       "      <th></th>\n",
       "      <th></th>\n",
       "      <th></th>\n",
       "      <th></th>\n",
       "      <th></th>\n",
       "      <th></th>\n",
       "      <th></th>\n",
       "      <th></th>\n",
       "      <th></th>\n",
       "      <th></th>\n",
       "      <th></th>\n",
       "      <th></th>\n",
       "      <th></th>\n",
       "      <th></th>\n",
       "      <th></th>\n",
       "      <th></th>\n",
       "      <th></th>\n",
       "    </tr>\n",
       "  </thead>\n",
       "  <tbody>\n",
       "    <tr>\n",
       "      <th>autauga</th>\n",
       "      <td>al</td>\n",
       "      <td>75198.383682</td>\n",
       "      <td>20057.504682</td>\n",
       "      <td>4577.286</td>\n",
       "      <td>13.185321</td>\n",
       "      <td>55869</td>\n",
       "      <td>5703.189465</td>\n",
       "      <td>1835.0</td>\n",
       "      <td>24</td>\n",
       "      <td>88.713682</td>\n",
       "      <td>28.317486</td>\n",
       "      <td>67565.0</td>\n",
       "      <td>11.2</td>\n",
       "      <td>2.8</td>\n",
       "      <td>13.630967</td>\n",
       "      <td>19.810766</td>\n",
       "      <td>33.0</td>\n",
       "      <td>30.6</td>\n",
       "      <td>14.473886</td>\n",
       "      <td>12.7</td>\n",
       "      <td>15.6</td>\n",
       "      <td>23.206071</td>\n",
       "      <td>15.973080</td>\n",
       "      <td>42.002162</td>\n",
       "    </tr>\n",
       "    <tr>\n",
       "      <th>baldwin</th>\n",
       "      <td>al</td>\n",
       "      <td>177521.631934</td>\n",
       "      <td>50860.502934</td>\n",
       "      <td>7375.405</td>\n",
       "      <td>9.026920</td>\n",
       "      <td>223234</td>\n",
       "      <td>19665.803702</td>\n",
       "      <td>5658.0</td>\n",
       "      <td>24</td>\n",
       "      <td>90.471385</td>\n",
       "      <td>31.907330</td>\n",
       "      <td>71135.0</td>\n",
       "      <td>8.9</td>\n",
       "      <td>3.0</td>\n",
       "      <td>12.996651</td>\n",
       "      <td>18.513318</td>\n",
       "      <td>30.0</td>\n",
       "      <td>24.7</td>\n",
       "      <td>18.736958</td>\n",
       "      <td>10.3</td>\n",
       "      <td>12.9</td>\n",
       "      <td>21.302311</td>\n",
       "      <td>20.977987</td>\n",
       "      <td>42.279099</td>\n",
       "    </tr>\n",
       "    <tr>\n",
       "      <th>barbour</th>\n",
       "      <td>al</td>\n",
       "      <td>19914.886299</td>\n",
       "      <td>5575.517299</td>\n",
       "      <td>605.641</td>\n",
       "      <td>10.771528</td>\n",
       "      <td>24686</td>\n",
       "      <td>1848.845078</td>\n",
       "      <td>567.0</td>\n",
       "      <td>24</td>\n",
       "      <td>74.731697</td>\n",
       "      <td>11.614317</td>\n",
       "      <td>38866.0</td>\n",
       "      <td>25.5</td>\n",
       "      <td>5.7</td>\n",
       "      <td>13.710555</td>\n",
       "      <td>25.530768</td>\n",
       "      <td>41.2</td>\n",
       "      <td>28.0</td>\n",
       "      <td>12.466974</td>\n",
       "      <td>17.5</td>\n",
       "      <td>21.9</td>\n",
       "      <td>20.586567</td>\n",
       "      <td>19.691323</td>\n",
       "      <td>67.789635</td>\n",
       "    </tr>\n",
       "    <tr>\n",
       "      <th>bibb</th>\n",
       "      <td>al</td>\n",
       "      <td>13536.198918</td>\n",
       "      <td>5398.731918</td>\n",
       "      <td>265.849</td>\n",
       "      <td>10.701738</td>\n",
       "      <td>22394</td>\n",
       "      <td>1264.859814</td>\n",
       "      <td>404.0</td>\n",
       "      <td>24</td>\n",
       "      <td>80.884468</td>\n",
       "      <td>11.346719</td>\n",
       "      <td>50907.0</td>\n",
       "      <td>17.8</td>\n",
       "      <td>3.5</td>\n",
       "      <td>9.255242</td>\n",
       "      <td>23.084813</td>\n",
       "      <td>37.4</td>\n",
       "      <td>33.4</td>\n",
       "      <td>15.420603</td>\n",
       "      <td>13.6</td>\n",
       "      <td>15.1</td>\n",
       "      <td>20.349201</td>\n",
       "      <td>16.669644</td>\n",
       "      <td>68.352607</td>\n",
       "    </tr>\n",
       "    <tr>\n",
       "      <th>blount</th>\n",
       "      <td>al</td>\n",
       "      <td>31367.767836</td>\n",
       "      <td>14793.631836</td>\n",
       "      <td>885.531</td>\n",
       "      <td>8.469309</td>\n",
       "      <td>57826</td>\n",
       "      <td>3703.698806</td>\n",
       "      <td>1088.0</td>\n",
       "      <td>24</td>\n",
       "      <td>82.825136</td>\n",
       "      <td>13.251620</td>\n",
       "      <td>55203.0</td>\n",
       "      <td>13.1</td>\n",
       "      <td>2.4</td>\n",
       "      <td>10.125665</td>\n",
       "      <td>22.954959</td>\n",
       "      <td>33.0</td>\n",
       "      <td>33.3</td>\n",
       "      <td>15.833284</td>\n",
       "      <td>14.6</td>\n",
       "      <td>13.6</td>\n",
       "      <td>22.922215</td>\n",
       "      <td>18.700930</td>\n",
       "      <td>89.951502</td>\n",
       "    </tr>\n",
       "  </tbody>\n",
       "</table>\n",
       "</div>"
      ],
      "text/plain": [
       "        state      total_exp  medical_care_exp  edu_training_exp  exp_per_vet  \\\n",
       "county                                                                          \n",
       "autauga    al   75198.383682      20057.504682          4577.286    13.185321   \n",
       "baldwin    al  177521.631934      50860.502934          7375.405     9.026920   \n",
       "barbour    al   19914.886299       5575.517299           605.641    10.771528   \n",
       "bibb       al   13536.198918       5398.731918           265.849    10.701738   \n",
       "blount     al   31367.767836      14793.631836           885.531     8.469309   \n",
       "\n",
       "         county_pop       vet_pop  med_patients  state_va_fac  hs_grad_pct  \\\n",
       "county                                                                       \n",
       "autauga       55869   5703.189465        1835.0            24    88.713682   \n",
       "baldwin      223234  19665.803702        5658.0            24    90.471385   \n",
       "barbour       24686   1848.845078         567.0            24    74.731697   \n",
       "bibb          22394   1264.859814         404.0            24    80.884468   \n",
       "blount        57826   3703.698806        1088.0            24    82.825136   \n",
       "\n",
       "         clg_grad_pct  median_income  poverty_pct  unemployment_pct  \\\n",
       "county                                                                \n",
       "autauga     28.317486        67565.0         11.2               2.8   \n",
       "baldwin     31.907330        71135.0          8.9               3.0   \n",
       "barbour     11.614317        38866.0         25.5               5.7   \n",
       "bibb        11.346719        50907.0         17.8               3.5   \n",
       "blount      13.251620        55203.0         13.1               2.4   \n",
       "\n",
       "         severe_housing_problems_pct  smokers_pct  obesity_pct  inactive_pct  \\\n",
       "county                                                                         \n",
       "autauga                    13.630967    19.810766         33.0          30.6   \n",
       "baldwin                    12.996651    18.513318         30.0          24.7   \n",
       "barbour                    13.710555    25.530768         41.2          28.0   \n",
       "bibb                        9.255242    23.084813         37.4          33.4   \n",
       "blount                     10.125665    22.954959         33.0          33.3   \n",
       "\n",
       "         excess_alcohol_pct  diabetes_pct  food_insecure_pct  age_under18_pct  \\\n",
       "county                                                                          \n",
       "autauga           14.473886          12.7               15.6        23.206071   \n",
       "baldwin           18.736958          10.3               12.9        21.302311   \n",
       "barbour           12.466974          17.5               21.9        20.586567   \n",
       "bibb              15.420603          13.6               15.1        20.349201   \n",
       "blount            15.833284          14.6               13.6        22.922215   \n",
       "\n",
       "         age_over65_pct  rural_pct  \n",
       "county                              \n",
       "autauga       15.973080  42.002162  \n",
       "baldwin       20.977987  42.279099  \n",
       "barbour       19.691323  67.789635  \n",
       "bibb          16.669644  68.352607  \n",
       "blount        18.700930  89.951502  "
      ]
     },
     "execution_count": 2,
     "metadata": {},
     "output_type": "execute_result"
    }
   ],
   "source": [
    "county_df = pd.read_csv('../data/county_df.csv', index_col='county')\n",
    "county_df.head()"
   ]
  },
  {
   "cell_type": "code",
   "execution_count": 3,
   "id": "ab9c5eb6-7ff0-45db-929b-7c95c2220800",
   "metadata": {},
   "outputs": [],
   "source": [
    "# dropping med_patients column, it has NaN values and won't be used for this model\n",
    "county_df.drop(columns='med_patients', inplace=True)\n",
    "# Encoding state column\n",
    "county_df = pd.get_dummies(county_df, columns=['state'])"
   ]
  },
  {
   "cell_type": "code",
   "execution_count": 139,
   "id": "4f9edce4-8e7c-420c-a65a-410fed4f9925",
   "metadata": {},
   "outputs": [
    {
     "data": {
      "text/plain": [
       "total_exp           float64\n",
       "medical_care_exp    float64\n",
       "edu_training_exp    float64\n",
       "exp_per_vet         float64\n",
       "county_pop            int64\n",
       "dtype: object"
      ]
     },
     "execution_count": 139,
     "metadata": {},
     "output_type": "execute_result"
    }
   ],
   "source": [
    "county_df.dtypes.head()"
   ]
  },
  {
   "cell_type": "code",
   "execution_count": 5,
   "id": "32a32b3c-83c6-4247-b130-afe2306306ba",
   "metadata": {},
   "outputs": [
    {
     "data": {
      "text/html": [
       "<div>\n",
       "<style scoped>\n",
       "    .dataframe tbody tr th:only-of-type {\n",
       "        vertical-align: middle;\n",
       "    }\n",
       "\n",
       "    .dataframe tbody tr th {\n",
       "        vertical-align: top;\n",
       "    }\n",
       "\n",
       "    .dataframe thead th {\n",
       "        text-align: right;\n",
       "    }\n",
       "</style>\n",
       "<table border=\"1\" class=\"dataframe\">\n",
       "  <thead>\n",
       "    <tr style=\"text-align: right;\">\n",
       "      <th></th>\n",
       "      <th>total_exp</th>\n",
       "      <th>medical_care_exp</th>\n",
       "      <th>edu_training_exp</th>\n",
       "      <th>exp_per_vet</th>\n",
       "      <th>county_pop</th>\n",
       "      <th>vet_pop</th>\n",
       "      <th>state_va_fac</th>\n",
       "      <th>hs_grad_pct</th>\n",
       "      <th>clg_grad_pct</th>\n",
       "      <th>median_income</th>\n",
       "      <th>poverty_pct</th>\n",
       "      <th>unemployment_pct</th>\n",
       "      <th>severe_housing_problems_pct</th>\n",
       "      <th>smokers_pct</th>\n",
       "      <th>obesity_pct</th>\n",
       "      <th>inactive_pct</th>\n",
       "      <th>excess_alcohol_pct</th>\n",
       "      <th>diabetes_pct</th>\n",
       "      <th>food_insecure_pct</th>\n",
       "      <th>age_under18_pct</th>\n",
       "      <th>age_over65_pct</th>\n",
       "      <th>rural_pct</th>\n",
       "      <th>state_ak</th>\n",
       "      <th>state_al</th>\n",
       "      <th>state_ar</th>\n",
       "      <th>state_az</th>\n",
       "      <th>state_ca</th>\n",
       "      <th>state_co</th>\n",
       "      <th>state_ct</th>\n",
       "      <th>state_dc</th>\n",
       "      <th>state_de</th>\n",
       "      <th>state_fl</th>\n",
       "      <th>state_ga</th>\n",
       "      <th>state_hi</th>\n",
       "      <th>state_ia</th>\n",
       "      <th>state_id</th>\n",
       "      <th>state_il</th>\n",
       "      <th>state_in</th>\n",
       "      <th>state_ks</th>\n",
       "      <th>state_ky</th>\n",
       "      <th>state_la</th>\n",
       "      <th>state_ma</th>\n",
       "      <th>state_md</th>\n",
       "      <th>state_me</th>\n",
       "      <th>state_mi</th>\n",
       "      <th>state_mn</th>\n",
       "      <th>state_mo</th>\n",
       "      <th>state_ms</th>\n",
       "      <th>state_mt</th>\n",
       "      <th>state_nc</th>\n",
       "      <th>state_nd</th>\n",
       "      <th>state_ne</th>\n",
       "      <th>state_nh</th>\n",
       "      <th>state_nj</th>\n",
       "      <th>state_nm</th>\n",
       "      <th>state_nv</th>\n",
       "      <th>state_ny</th>\n",
       "      <th>state_oh</th>\n",
       "      <th>state_ok</th>\n",
       "      <th>state_or</th>\n",
       "      <th>state_pa</th>\n",
       "      <th>state_ri</th>\n",
       "      <th>state_sc</th>\n",
       "      <th>state_sd</th>\n",
       "      <th>state_tn</th>\n",
       "      <th>state_tx</th>\n",
       "      <th>state_ut</th>\n",
       "      <th>state_va</th>\n",
       "      <th>state_vt</th>\n",
       "      <th>state_wa</th>\n",
       "      <th>state_wi</th>\n",
       "      <th>state_wv</th>\n",
       "      <th>state_wy</th>\n",
       "    </tr>\n",
       "    <tr>\n",
       "      <th>county</th>\n",
       "      <th></th>\n",
       "      <th></th>\n",
       "      <th></th>\n",
       "      <th></th>\n",
       "      <th></th>\n",
       "      <th></th>\n",
       "      <th></th>\n",
       "      <th></th>\n",
       "      <th></th>\n",
       "      <th></th>\n",
       "      <th></th>\n",
       "      <th></th>\n",
       "      <th></th>\n",
       "      <th></th>\n",
       "      <th></th>\n",
       "      <th></th>\n",
       "      <th></th>\n",
       "      <th></th>\n",
       "      <th></th>\n",
       "      <th></th>\n",
       "      <th></th>\n",
       "      <th></th>\n",
       "      <th></th>\n",
       "      <th></th>\n",
       "      <th></th>\n",
       "      <th></th>\n",
       "      <th></th>\n",
       "      <th></th>\n",
       "      <th></th>\n",
       "      <th></th>\n",
       "      <th></th>\n",
       "      <th></th>\n",
       "      <th></th>\n",
       "      <th></th>\n",
       "      <th></th>\n",
       "      <th></th>\n",
       "      <th></th>\n",
       "      <th></th>\n",
       "      <th></th>\n",
       "      <th></th>\n",
       "      <th></th>\n",
       "      <th></th>\n",
       "      <th></th>\n",
       "      <th></th>\n",
       "      <th></th>\n",
       "      <th></th>\n",
       "      <th></th>\n",
       "      <th></th>\n",
       "      <th></th>\n",
       "      <th></th>\n",
       "      <th></th>\n",
       "      <th></th>\n",
       "      <th></th>\n",
       "      <th></th>\n",
       "      <th></th>\n",
       "      <th></th>\n",
       "      <th></th>\n",
       "      <th></th>\n",
       "      <th></th>\n",
       "      <th></th>\n",
       "      <th></th>\n",
       "      <th></th>\n",
       "      <th></th>\n",
       "      <th></th>\n",
       "      <th></th>\n",
       "      <th></th>\n",
       "      <th></th>\n",
       "      <th></th>\n",
       "      <th></th>\n",
       "      <th></th>\n",
       "      <th></th>\n",
       "      <th></th>\n",
       "      <th></th>\n",
       "    </tr>\n",
       "  </thead>\n",
       "  <tbody>\n",
       "    <tr>\n",
       "      <th>autauga</th>\n",
       "      <td>75198.383682</td>\n",
       "      <td>20057.504682</td>\n",
       "      <td>4577.286</td>\n",
       "      <td>13.185321</td>\n",
       "      <td>55869</td>\n",
       "      <td>5703.189465</td>\n",
       "      <td>24</td>\n",
       "      <td>88.713682</td>\n",
       "      <td>28.317486</td>\n",
       "      <td>67565.0</td>\n",
       "      <td>11.2</td>\n",
       "      <td>2.8</td>\n",
       "      <td>13.630967</td>\n",
       "      <td>19.810766</td>\n",
       "      <td>33.0</td>\n",
       "      <td>30.6</td>\n",
       "      <td>14.473886</td>\n",
       "      <td>12.7</td>\n",
       "      <td>15.6</td>\n",
       "      <td>23.206071</td>\n",
       "      <td>15.973080</td>\n",
       "      <td>42.002162</td>\n",
       "      <td>0</td>\n",
       "      <td>1</td>\n",
       "      <td>0</td>\n",
       "      <td>0</td>\n",
       "      <td>0</td>\n",
       "      <td>0</td>\n",
       "      <td>0</td>\n",
       "      <td>0</td>\n",
       "      <td>0</td>\n",
       "      <td>0</td>\n",
       "      <td>0</td>\n",
       "      <td>0</td>\n",
       "      <td>0</td>\n",
       "      <td>0</td>\n",
       "      <td>0</td>\n",
       "      <td>0</td>\n",
       "      <td>0</td>\n",
       "      <td>0</td>\n",
       "      <td>0</td>\n",
       "      <td>0</td>\n",
       "      <td>0</td>\n",
       "      <td>0</td>\n",
       "      <td>0</td>\n",
       "      <td>0</td>\n",
       "      <td>0</td>\n",
       "      <td>0</td>\n",
       "      <td>0</td>\n",
       "      <td>0</td>\n",
       "      <td>0</td>\n",
       "      <td>0</td>\n",
       "      <td>0</td>\n",
       "      <td>0</td>\n",
       "      <td>0</td>\n",
       "      <td>0</td>\n",
       "      <td>0</td>\n",
       "      <td>0</td>\n",
       "      <td>0</td>\n",
       "      <td>0</td>\n",
       "      <td>0</td>\n",
       "      <td>0</td>\n",
       "      <td>0</td>\n",
       "      <td>0</td>\n",
       "      <td>0</td>\n",
       "      <td>0</td>\n",
       "      <td>0</td>\n",
       "      <td>0</td>\n",
       "      <td>0</td>\n",
       "      <td>0</td>\n",
       "      <td>0</td>\n",
       "      <td>0</td>\n",
       "      <td>0</td>\n",
       "    </tr>\n",
       "    <tr>\n",
       "      <th>baldwin</th>\n",
       "      <td>177521.631934</td>\n",
       "      <td>50860.502934</td>\n",
       "      <td>7375.405</td>\n",
       "      <td>9.026920</td>\n",
       "      <td>223234</td>\n",
       "      <td>19665.803702</td>\n",
       "      <td>24</td>\n",
       "      <td>90.471385</td>\n",
       "      <td>31.907330</td>\n",
       "      <td>71135.0</td>\n",
       "      <td>8.9</td>\n",
       "      <td>3.0</td>\n",
       "      <td>12.996651</td>\n",
       "      <td>18.513318</td>\n",
       "      <td>30.0</td>\n",
       "      <td>24.7</td>\n",
       "      <td>18.736958</td>\n",
       "      <td>10.3</td>\n",
       "      <td>12.9</td>\n",
       "      <td>21.302311</td>\n",
       "      <td>20.977987</td>\n",
       "      <td>42.279099</td>\n",
       "      <td>0</td>\n",
       "      <td>1</td>\n",
       "      <td>0</td>\n",
       "      <td>0</td>\n",
       "      <td>0</td>\n",
       "      <td>0</td>\n",
       "      <td>0</td>\n",
       "      <td>0</td>\n",
       "      <td>0</td>\n",
       "      <td>0</td>\n",
       "      <td>0</td>\n",
       "      <td>0</td>\n",
       "      <td>0</td>\n",
       "      <td>0</td>\n",
       "      <td>0</td>\n",
       "      <td>0</td>\n",
       "      <td>0</td>\n",
       "      <td>0</td>\n",
       "      <td>0</td>\n",
       "      <td>0</td>\n",
       "      <td>0</td>\n",
       "      <td>0</td>\n",
       "      <td>0</td>\n",
       "      <td>0</td>\n",
       "      <td>0</td>\n",
       "      <td>0</td>\n",
       "      <td>0</td>\n",
       "      <td>0</td>\n",
       "      <td>0</td>\n",
       "      <td>0</td>\n",
       "      <td>0</td>\n",
       "      <td>0</td>\n",
       "      <td>0</td>\n",
       "      <td>0</td>\n",
       "      <td>0</td>\n",
       "      <td>0</td>\n",
       "      <td>0</td>\n",
       "      <td>0</td>\n",
       "      <td>0</td>\n",
       "      <td>0</td>\n",
       "      <td>0</td>\n",
       "      <td>0</td>\n",
       "      <td>0</td>\n",
       "      <td>0</td>\n",
       "      <td>0</td>\n",
       "      <td>0</td>\n",
       "      <td>0</td>\n",
       "      <td>0</td>\n",
       "      <td>0</td>\n",
       "      <td>0</td>\n",
       "      <td>0</td>\n",
       "    </tr>\n",
       "    <tr>\n",
       "      <th>barbour</th>\n",
       "      <td>19914.886299</td>\n",
       "      <td>5575.517299</td>\n",
       "      <td>605.641</td>\n",
       "      <td>10.771528</td>\n",
       "      <td>24686</td>\n",
       "      <td>1848.845078</td>\n",
       "      <td>24</td>\n",
       "      <td>74.731697</td>\n",
       "      <td>11.614317</td>\n",
       "      <td>38866.0</td>\n",
       "      <td>25.5</td>\n",
       "      <td>5.7</td>\n",
       "      <td>13.710555</td>\n",
       "      <td>25.530768</td>\n",
       "      <td>41.2</td>\n",
       "      <td>28.0</td>\n",
       "      <td>12.466974</td>\n",
       "      <td>17.5</td>\n",
       "      <td>21.9</td>\n",
       "      <td>20.586567</td>\n",
       "      <td>19.691323</td>\n",
       "      <td>67.789635</td>\n",
       "      <td>0</td>\n",
       "      <td>1</td>\n",
       "      <td>0</td>\n",
       "      <td>0</td>\n",
       "      <td>0</td>\n",
       "      <td>0</td>\n",
       "      <td>0</td>\n",
       "      <td>0</td>\n",
       "      <td>0</td>\n",
       "      <td>0</td>\n",
       "      <td>0</td>\n",
       "      <td>0</td>\n",
       "      <td>0</td>\n",
       "      <td>0</td>\n",
       "      <td>0</td>\n",
       "      <td>0</td>\n",
       "      <td>0</td>\n",
       "      <td>0</td>\n",
       "      <td>0</td>\n",
       "      <td>0</td>\n",
       "      <td>0</td>\n",
       "      <td>0</td>\n",
       "      <td>0</td>\n",
       "      <td>0</td>\n",
       "      <td>0</td>\n",
       "      <td>0</td>\n",
       "      <td>0</td>\n",
       "      <td>0</td>\n",
       "      <td>0</td>\n",
       "      <td>0</td>\n",
       "      <td>0</td>\n",
       "      <td>0</td>\n",
       "      <td>0</td>\n",
       "      <td>0</td>\n",
       "      <td>0</td>\n",
       "      <td>0</td>\n",
       "      <td>0</td>\n",
       "      <td>0</td>\n",
       "      <td>0</td>\n",
       "      <td>0</td>\n",
       "      <td>0</td>\n",
       "      <td>0</td>\n",
       "      <td>0</td>\n",
       "      <td>0</td>\n",
       "      <td>0</td>\n",
       "      <td>0</td>\n",
       "      <td>0</td>\n",
       "      <td>0</td>\n",
       "      <td>0</td>\n",
       "      <td>0</td>\n",
       "      <td>0</td>\n",
       "    </tr>\n",
       "    <tr>\n",
       "      <th>bibb</th>\n",
       "      <td>13536.198918</td>\n",
       "      <td>5398.731918</td>\n",
       "      <td>265.849</td>\n",
       "      <td>10.701738</td>\n",
       "      <td>22394</td>\n",
       "      <td>1264.859814</td>\n",
       "      <td>24</td>\n",
       "      <td>80.884468</td>\n",
       "      <td>11.346719</td>\n",
       "      <td>50907.0</td>\n",
       "      <td>17.8</td>\n",
       "      <td>3.5</td>\n",
       "      <td>9.255242</td>\n",
       "      <td>23.084813</td>\n",
       "      <td>37.4</td>\n",
       "      <td>33.4</td>\n",
       "      <td>15.420603</td>\n",
       "      <td>13.6</td>\n",
       "      <td>15.1</td>\n",
       "      <td>20.349201</td>\n",
       "      <td>16.669644</td>\n",
       "      <td>68.352607</td>\n",
       "      <td>0</td>\n",
       "      <td>1</td>\n",
       "      <td>0</td>\n",
       "      <td>0</td>\n",
       "      <td>0</td>\n",
       "      <td>0</td>\n",
       "      <td>0</td>\n",
       "      <td>0</td>\n",
       "      <td>0</td>\n",
       "      <td>0</td>\n",
       "      <td>0</td>\n",
       "      <td>0</td>\n",
       "      <td>0</td>\n",
       "      <td>0</td>\n",
       "      <td>0</td>\n",
       "      <td>0</td>\n",
       "      <td>0</td>\n",
       "      <td>0</td>\n",
       "      <td>0</td>\n",
       "      <td>0</td>\n",
       "      <td>0</td>\n",
       "      <td>0</td>\n",
       "      <td>0</td>\n",
       "      <td>0</td>\n",
       "      <td>0</td>\n",
       "      <td>0</td>\n",
       "      <td>0</td>\n",
       "      <td>0</td>\n",
       "      <td>0</td>\n",
       "      <td>0</td>\n",
       "      <td>0</td>\n",
       "      <td>0</td>\n",
       "      <td>0</td>\n",
       "      <td>0</td>\n",
       "      <td>0</td>\n",
       "      <td>0</td>\n",
       "      <td>0</td>\n",
       "      <td>0</td>\n",
       "      <td>0</td>\n",
       "      <td>0</td>\n",
       "      <td>0</td>\n",
       "      <td>0</td>\n",
       "      <td>0</td>\n",
       "      <td>0</td>\n",
       "      <td>0</td>\n",
       "      <td>0</td>\n",
       "      <td>0</td>\n",
       "      <td>0</td>\n",
       "      <td>0</td>\n",
       "      <td>0</td>\n",
       "      <td>0</td>\n",
       "    </tr>\n",
       "    <tr>\n",
       "      <th>blount</th>\n",
       "      <td>31367.767836</td>\n",
       "      <td>14793.631836</td>\n",
       "      <td>885.531</td>\n",
       "      <td>8.469309</td>\n",
       "      <td>57826</td>\n",
       "      <td>3703.698806</td>\n",
       "      <td>24</td>\n",
       "      <td>82.825136</td>\n",
       "      <td>13.251620</td>\n",
       "      <td>55203.0</td>\n",
       "      <td>13.1</td>\n",
       "      <td>2.4</td>\n",
       "      <td>10.125665</td>\n",
       "      <td>22.954959</td>\n",
       "      <td>33.0</td>\n",
       "      <td>33.3</td>\n",
       "      <td>15.833284</td>\n",
       "      <td>14.6</td>\n",
       "      <td>13.6</td>\n",
       "      <td>22.922215</td>\n",
       "      <td>18.700930</td>\n",
       "      <td>89.951502</td>\n",
       "      <td>0</td>\n",
       "      <td>1</td>\n",
       "      <td>0</td>\n",
       "      <td>0</td>\n",
       "      <td>0</td>\n",
       "      <td>0</td>\n",
       "      <td>0</td>\n",
       "      <td>0</td>\n",
       "      <td>0</td>\n",
       "      <td>0</td>\n",
       "      <td>0</td>\n",
       "      <td>0</td>\n",
       "      <td>0</td>\n",
       "      <td>0</td>\n",
       "      <td>0</td>\n",
       "      <td>0</td>\n",
       "      <td>0</td>\n",
       "      <td>0</td>\n",
       "      <td>0</td>\n",
       "      <td>0</td>\n",
       "      <td>0</td>\n",
       "      <td>0</td>\n",
       "      <td>0</td>\n",
       "      <td>0</td>\n",
       "      <td>0</td>\n",
       "      <td>0</td>\n",
       "      <td>0</td>\n",
       "      <td>0</td>\n",
       "      <td>0</td>\n",
       "      <td>0</td>\n",
       "      <td>0</td>\n",
       "      <td>0</td>\n",
       "      <td>0</td>\n",
       "      <td>0</td>\n",
       "      <td>0</td>\n",
       "      <td>0</td>\n",
       "      <td>0</td>\n",
       "      <td>0</td>\n",
       "      <td>0</td>\n",
       "      <td>0</td>\n",
       "      <td>0</td>\n",
       "      <td>0</td>\n",
       "      <td>0</td>\n",
       "      <td>0</td>\n",
       "      <td>0</td>\n",
       "      <td>0</td>\n",
       "      <td>0</td>\n",
       "      <td>0</td>\n",
       "      <td>0</td>\n",
       "      <td>0</td>\n",
       "      <td>0</td>\n",
       "    </tr>\n",
       "  </tbody>\n",
       "</table>\n",
       "</div>"
      ],
      "text/plain": [
       "             total_exp  medical_care_exp  edu_training_exp  exp_per_vet  \\\n",
       "county                                                                    \n",
       "autauga   75198.383682      20057.504682          4577.286    13.185321   \n",
       "baldwin  177521.631934      50860.502934          7375.405     9.026920   \n",
       "barbour   19914.886299       5575.517299           605.641    10.771528   \n",
       "bibb      13536.198918       5398.731918           265.849    10.701738   \n",
       "blount    31367.767836      14793.631836           885.531     8.469309   \n",
       "\n",
       "         county_pop       vet_pop  state_va_fac  hs_grad_pct  clg_grad_pct  \\\n",
       "county                                                                       \n",
       "autauga       55869   5703.189465            24    88.713682     28.317486   \n",
       "baldwin      223234  19665.803702            24    90.471385     31.907330   \n",
       "barbour       24686   1848.845078            24    74.731697     11.614317   \n",
       "bibb          22394   1264.859814            24    80.884468     11.346719   \n",
       "blount        57826   3703.698806            24    82.825136     13.251620   \n",
       "\n",
       "         median_income  poverty_pct  unemployment_pct  \\\n",
       "county                                                  \n",
       "autauga        67565.0         11.2               2.8   \n",
       "baldwin        71135.0          8.9               3.0   \n",
       "barbour        38866.0         25.5               5.7   \n",
       "bibb           50907.0         17.8               3.5   \n",
       "blount         55203.0         13.1               2.4   \n",
       "\n",
       "         severe_housing_problems_pct  smokers_pct  obesity_pct  inactive_pct  \\\n",
       "county                                                                         \n",
       "autauga                    13.630967    19.810766         33.0          30.6   \n",
       "baldwin                    12.996651    18.513318         30.0          24.7   \n",
       "barbour                    13.710555    25.530768         41.2          28.0   \n",
       "bibb                        9.255242    23.084813         37.4          33.4   \n",
       "blount                     10.125665    22.954959         33.0          33.3   \n",
       "\n",
       "         excess_alcohol_pct  diabetes_pct  food_insecure_pct  age_under18_pct  \\\n",
       "county                                                                          \n",
       "autauga           14.473886          12.7               15.6        23.206071   \n",
       "baldwin           18.736958          10.3               12.9        21.302311   \n",
       "barbour           12.466974          17.5               21.9        20.586567   \n",
       "bibb              15.420603          13.6               15.1        20.349201   \n",
       "blount            15.833284          14.6               13.6        22.922215   \n",
       "\n",
       "         age_over65_pct  rural_pct  state_ak  state_al  state_ar  state_az  \\\n",
       "county                                                                       \n",
       "autauga       15.973080  42.002162         0         1         0         0   \n",
       "baldwin       20.977987  42.279099         0         1         0         0   \n",
       "barbour       19.691323  67.789635         0         1         0         0   \n",
       "bibb          16.669644  68.352607         0         1         0         0   \n",
       "blount        18.700930  89.951502         0         1         0         0   \n",
       "\n",
       "         state_ca  state_co  state_ct  state_dc  state_de  state_fl  state_ga  \\\n",
       "county                                                                          \n",
       "autauga         0         0         0         0         0         0         0   \n",
       "baldwin         0         0         0         0         0         0         0   \n",
       "barbour         0         0         0         0         0         0         0   \n",
       "bibb            0         0         0         0         0         0         0   \n",
       "blount          0         0         0         0         0         0         0   \n",
       "\n",
       "         state_hi  state_ia  state_id  state_il  state_in  state_ks  state_ky  \\\n",
       "county                                                                          \n",
       "autauga         0         0         0         0         0         0         0   \n",
       "baldwin         0         0         0         0         0         0         0   \n",
       "barbour         0         0         0         0         0         0         0   \n",
       "bibb            0         0         0         0         0         0         0   \n",
       "blount          0         0         0         0         0         0         0   \n",
       "\n",
       "         state_la  state_ma  state_md  state_me  state_mi  state_mn  state_mo  \\\n",
       "county                                                                          \n",
       "autauga         0         0         0         0         0         0         0   \n",
       "baldwin         0         0         0         0         0         0         0   \n",
       "barbour         0         0         0         0         0         0         0   \n",
       "bibb            0         0         0         0         0         0         0   \n",
       "blount          0         0         0         0         0         0         0   \n",
       "\n",
       "         state_ms  state_mt  state_nc  state_nd  state_ne  state_nh  state_nj  \\\n",
       "county                                                                          \n",
       "autauga         0         0         0         0         0         0         0   \n",
       "baldwin         0         0         0         0         0         0         0   \n",
       "barbour         0         0         0         0         0         0         0   \n",
       "bibb            0         0         0         0         0         0         0   \n",
       "blount          0         0         0         0         0         0         0   \n",
       "\n",
       "         state_nm  state_nv  state_ny  state_oh  state_ok  state_or  state_pa  \\\n",
       "county                                                                          \n",
       "autauga         0         0         0         0         0         0         0   \n",
       "baldwin         0         0         0         0         0         0         0   \n",
       "barbour         0         0         0         0         0         0         0   \n",
       "bibb            0         0         0         0         0         0         0   \n",
       "blount          0         0         0         0         0         0         0   \n",
       "\n",
       "         state_ri  state_sc  state_sd  state_tn  state_tx  state_ut  state_va  \\\n",
       "county                                                                          \n",
       "autauga         0         0         0         0         0         0         0   \n",
       "baldwin         0         0         0         0         0         0         0   \n",
       "barbour         0         0         0         0         0         0         0   \n",
       "bibb            0         0         0         0         0         0         0   \n",
       "blount          0         0         0         0         0         0         0   \n",
       "\n",
       "         state_vt  state_wa  state_wi  state_wv  state_wy  \n",
       "county                                                     \n",
       "autauga         0         0         0         0         0  \n",
       "baldwin         0         0         0         0         0  \n",
       "barbour         0         0         0         0         0  \n",
       "bibb            0         0         0         0         0  \n",
       "blount          0         0         0         0         0  "
      ]
     },
     "execution_count": 5,
     "metadata": {},
     "output_type": "execute_result"
    }
   ],
   "source": [
    "county_df.head()"
   ]
  },
  {
   "cell_type": "code",
   "execution_count": 6,
   "id": "684be149-2538-4cc5-a2f8-3b07c23f4cec",
   "metadata": {},
   "outputs": [
    {
     "data": {
      "text/plain": [
       "Index(['total_exp', 'medical_care_exp', 'edu_training_exp', 'exp_per_vet',\n",
       "       'county_pop', 'vet_pop', 'state_va_fac', 'hs_grad_pct', 'clg_grad_pct',\n",
       "       'median_income', 'poverty_pct', 'unemployment_pct',\n",
       "       'severe_housing_problems_pct', 'smokers_pct', 'obesity_pct',\n",
       "       'inactive_pct', 'excess_alcohol_pct', 'diabetes_pct',\n",
       "       'food_insecure_pct', 'age_under18_pct', 'age_over65_pct', 'rural_pct',\n",
       "       'state_ak', 'state_al', 'state_ar', 'state_az', 'state_ca', 'state_co',\n",
       "       'state_ct', 'state_dc', 'state_de', 'state_fl', 'state_ga', 'state_hi',\n",
       "       'state_ia', 'state_id', 'state_il', 'state_in', 'state_ks', 'state_ky',\n",
       "       'state_la', 'state_ma', 'state_md', 'state_me', 'state_mi', 'state_mn',\n",
       "       'state_mo', 'state_ms', 'state_mt', 'state_nc', 'state_nd', 'state_ne',\n",
       "       'state_nh', 'state_nj', 'state_nm', 'state_nv', 'state_ny', 'state_oh',\n",
       "       'state_ok', 'state_or', 'state_pa', 'state_ri', 'state_sc', 'state_sd',\n",
       "       'state_tn', 'state_tx', 'state_ut', 'state_va', 'state_vt', 'state_wa',\n",
       "       'state_wi', 'state_wv', 'state_wy'],\n",
       "      dtype='object')"
      ]
     },
     "execution_count": 6,
     "metadata": {},
     "output_type": "execute_result"
    }
   ],
   "source": [
    "county_df.columns"
   ]
  },
  {
   "cell_type": "code",
   "execution_count": 7,
   "id": "9a04974d-740c-4f38-b43c-05096c3e48ee",
   "metadata": {},
   "outputs": [],
   "source": [
    "# setting features into groups for ease of testing\n",
    "exp_cols = ['total_exp', 'medical_care_exp', 'edu_training_exp', 'exp_per_vet']\n",
    "pop_cols = ['county_pop', 'vet_pop', 'state_va_fac']\n",
    "edu_cols = ['hs_grad_pct', 'clg_grad_pct']\n",
    "econ_cols = ['median_income', 'poverty_pct', 'unemployment_pct', 'severe_housing_problems_pct']\n",
    "health_cols = ['smokers_pct', 'obesity_pct', 'inactive_pct', 'excess_alcohol_pct', 'diabetes_pct', 'food_insecure_pct']\n",
    "community_cols = ['age_under18_pct', 'age_over65_pct', 'rural_pct']\n",
    "state_cols = ['state_ak', 'state_al', 'state_ar', 'state_az', 'state_ca', 'state_co',\n",
    "       'state_ct', 'state_dc', 'state_de', 'state_fl', 'state_ga', 'state_hi',\n",
    "       'state_ia', 'state_id', 'state_il', 'state_in', 'state_ks', 'state_ky',\n",
    "       'state_la', 'state_ma', 'state_md', 'state_me', 'state_mi', 'state_mn',\n",
    "       'state_mo', 'state_ms', 'state_mt', 'state_nc', 'state_nd', 'state_ne',\n",
    "       'state_nh', 'state_nj', 'state_nm', 'state_nv', 'state_ny', 'state_oh',\n",
    "       'state_ok', 'state_or', 'state_pa', 'state_ri', 'state_sc', 'state_sd',\n",
    "       'state_tn', 'state_tx', 'state_ut', 'state_va', 'state_vt', 'state_wa',\n",
    "       'state_wi', 'state_wv', 'state_wy']\n",
    "\n",
    "non_exp_columns = pop_cols+edu_cols+econ_cols+health_cols+community_cols+state_cols"
   ]
  },
  {
   "cell_type": "code",
   "execution_count": null,
   "id": "144ee825-299d-4c0f-9da1-96ed18021a93",
   "metadata": {},
   "outputs": [],
   "source": []
  },
  {
   "cell_type": "code",
   "execution_count": 137,
   "id": "3cb34c3d-2ad7-4909-afe1-c8083bcdcfc3",
   "metadata": {},
   "outputs": [],
   "source": [
    "def metrics_plots(model, X_train, y_train, X_test, y_test):\n",
    "    \n",
    "    y_train_preds = model.predict(X_train)\n",
    "    y_test_preds = model.predict(X_test)\n",
    "    \n",
    "    train_r2 = r2_score(y_train, y_train_preds)\n",
    "    train_rmse = np.sqrt(mean_squared_error(y_train, y_train_preds))\n",
    "    train_mae = mean_absolute_error(y_train, y_train_preds)   \n",
    "    \n",
    "    test_r2 = r2_score(y_test, y_test_preds)\n",
    "    test_rmse = np.sqrt(mean_squared_error(y_test, y_test_preds))\n",
    "    test_mae = mean_absolute_error(y_test, y_test_preds)\n",
    "    print(f'Train Scores \\nR2 score = {train_r2} \\nRoot Mean Squared Error = {train_rmse} \\nMean Absolute Error = {train_mae}')\n",
    "    print(f'Test Scores \\nR2 score = {test_r2} \\nRoot Mean Squared Error = {test_rmse} \\nMean Absolute Error = {test_mae}')\n",
    "    \n",
    "    plt.scatter(y_train_preds, y_train, label='Training data') \n",
    "    plt.scatter(y_test_preds, y_test, label='Validation data')\n",
    "    plt.title('Total Expenditure Prediction by County')\n",
    "    plt.xlabel('Predicted values')\n",
    "    plt.ylabel('Actual values')\n",
    "    plt.legend(loc='upper left')\n",
    "    plt.plot([y_train.min(), y_train.max()], [y_train.min(), y_train.max()])"
   ]
  },
  {
   "cell_type": "code",
   "execution_count": 157,
   "id": "c3bc565e-f9a3-4993-89fa-6284a275168e",
   "metadata": {},
   "outputs": [],
   "source": [
    "# setting X and y\n",
    "X = county_df[non_exp_columns]\n",
    "y = county_df['total_exp']\n",
    "X_train, X_test, y_train, y_test = train_test_split(X, y, random_state=14)\n",
    "\n",
    "# scaled X\n",
    "sc = StandardScaler()\n",
    "sc.fit(X_train)\n",
    "X_train_sc = pd.DataFrame(sc.transform(X_train), columns=sc.get_feature_names_out())\n",
    "X_test_sc = pd.DataFrame(sc.transform(X_test), columns=sc.get_feature_names_out())"
   ]
  },
  {
   "cell_type": "code",
   "execution_count": 158,
   "id": "c1e014cf-e108-4f70-9ea9-9b90a35fbad6",
   "metadata": {},
   "outputs": [
    {
     "data": {
      "text/plain": [
       "Index(['county_pop', 'vet_pop', 'state_va_fac', 'hs_grad_pct', 'clg_grad_pct',\n",
       "       'median_income', 'poverty_pct', 'unemployment_pct',\n",
       "       'severe_housing_problems_pct', 'smokers_pct', 'obesity_pct',\n",
       "       'inactive_pct', 'excess_alcohol_pct', 'diabetes_pct',\n",
       "       'food_insecure_pct', 'age_under18_pct', 'age_over65_pct', 'rural_pct',\n",
       "       'state_ak', 'state_al', 'state_ar', 'state_az', 'state_ca', 'state_co',\n",
       "       'state_ct', 'state_dc', 'state_de', 'state_fl', 'state_ga', 'state_hi',\n",
       "       'state_ia', 'state_id', 'state_il', 'state_in', 'state_ks', 'state_ky',\n",
       "       'state_la', 'state_ma', 'state_md', 'state_me', 'state_mi', 'state_mn',\n",
       "       'state_mo', 'state_ms', 'state_mt', 'state_nc', 'state_nd', 'state_ne',\n",
       "       'state_nh', 'state_nj', 'state_nm', 'state_nv', 'state_ny', 'state_oh',\n",
       "       'state_ok', 'state_or', 'state_pa', 'state_ri', 'state_sc', 'state_sd',\n",
       "       'state_tn', 'state_tx', 'state_ut', 'state_va', 'state_vt', 'state_wa',\n",
       "       'state_wi', 'state_wv', 'state_wy'],\n",
       "      dtype='object')"
      ]
     },
     "execution_count": 158,
     "metadata": {},
     "output_type": "execute_result"
    }
   ],
   "source": [
    "X_test_sc.columns"
   ]
  },
  {
   "cell_type": "markdown",
   "id": "6d6a784f-7ae3-4a14-94be-e259f018585e",
   "metadata": {},
   "source": [
    "## Testing of total expenditures per county based on all features"
   ]
  },
  {
   "cell_type": "markdown",
   "id": "89fb395d-26e0-456e-98de-9181443226b5",
   "metadata": {},
   "source": [
    "#### Baseline Model Score"
   ]
  },
  {
   "cell_type": "code",
   "execution_count": 159,
   "id": "ebf6b3b8-e9a9-4d53-ab88-356895886a5a",
   "metadata": {},
   "outputs": [
    {
     "name": "stdout",
     "output_type": "stream",
     "text": [
      "train r2 score = 0.0 \n",
      "test r2 score = -3.3596889778220174e-05\n",
      "Train Scores \n",
      "R2 score = 0.0 \n",
      "Root Mean Squared Error = 216146.13642676608 \n",
      "Mean Absolute Error = 82791.36106609095\n",
      "Test Scores \n",
      "R2 score = -3.3596889778220174e-05 \n",
      "Root Mean Squared Error = 187543.02685734522 \n",
      "Mean Absolute Error = 83066.05418544414\n"
     ]
    },
    {
     "data": {
      "image/png": "[encoded data removed]",
      "text/plain": [
       "<Figure size 432x288 with 1 Axes>"
      ]
     },
     "metadata": {
      "needs_background": "light"
     },
     "output_type": "display_data"
    }
   ],
   "source": [
    "dr = DummyRegressor(strategy='mean')\n",
    "dr.fit(X_train, y_train)\n",
    "print(f'train r2 score = {dr.score(X_train_sc, y_train)} \\ntest r2 score = {dr.score(X_test_sc, y_test)}')\n",
    "metrics_plots(dr, X_train_sc, y_train, X_test_sc, y_test)\n",
    "# preds = dr.predict(X_test)\n",
    "# reg_metrics(y_test, preds)\n",
    "# reg_plots(dr, X_train, y_train, X_test, y_test)"
   ]
  },
  {
   "cell_type": "markdown",
   "id": "695306c4-01b8-4cf6-b673-b9f1765a74c6",
   "metadata": {},
   "source": [
    "#### Testing untuned models with all features"
   ]
  },
  {
   "cell_type": "markdown",
   "id": "51dd032f-b5a3-4b3e-bc30-46b0acfc0746",
   "metadata": {},
   "source": [
    "#### Linear Regression"
   ]
  },
  {
   "cell_type": "code",
   "execution_count": 160,
   "id": "2558ad13-d057-4baa-bba6-76d105fd56a4",
   "metadata": {},
   "outputs": [
    {
     "name": "stdout",
     "output_type": "stream",
     "text": [
      "Train Scores \n",
      "R2 score = 0.8063797468867456 \n",
      "Root Mean Squared Error = 95109.2744797055 \n",
      "Mean Absolute Error = 21448.539086687757\n",
      "Test Scores \n",
      "R2 score = 0.8690153390008754 \n",
      "Root Mean Squared Error = 67874.06279642573 \n",
      "Mean Absolute Error = 25396.92354081704\n"
     ]
    },
    {
     "data": {
      "image/png": "[encoded data removed]",
      "text/plain": [
       "<Figure size 432x288 with 1 Axes>"
      ]
     },
     "metadata": {
      "needs_background": "light"
     },
     "output_type": "display_data"
    }
   ],
   "source": [
    "lr = LinearRegression()\n",
    "lr.fit(X_train_sc, y_train)\n",
    "lr.score(X_train_sc, y_train), lr.score(X_test_sc, y_test)\n",
    "metrics_plots(lr, X_train_sc, y_train, X_test_sc, y_test)\n",
    "# print(f'train score = {lr.score(X_train_sc, y_train)} \\ntest score = {lr.score(X_test_sc, y_test)}')\n",
    "# reg_plots(lr, X_train_sc, y_train, X_test_sc, y_test)"
   ]
  },
  {
   "cell_type": "markdown",
   "id": "057fe289-2639-49af-9e67-e6ae479e2852",
   "metadata": {},
   "source": [
    "#### Lasso Regression"
   ]
  },
  {
   "cell_type": "code",
   "execution_count": 161,
   "id": "4e6eb8cd-e422-4e72-9d78-9d1db0e9cc0c",
   "metadata": {},
   "outputs": [
    {
     "name": "stdout",
     "output_type": "stream",
     "text": [
      "Train Scores \n",
      "R2 score = 0.8063790618513709 \n",
      "Root Mean Squared Error = 95109.44272956265 \n",
      "Mean Absolute Error = 21446.430895725585\n",
      "Test Scores \n",
      "R2 score = 0.8690048686168119 \n",
      "Root Mean Squared Error = 67876.77553125516 \n",
      "Mean Absolute Error = 25397.066977493552\n"
     ]
    },
    {
     "data": {
      "image/png": "[encoded data removed]",
      "text/plain": [
       "<Figure size 432x288 with 1 Axes>"
      ]
     },
     "metadata": {
      "needs_background": "light"
     },
     "output_type": "display_data"
    }
   ],
   "source": [
    "lasso = Lasso(max_iter = 100000)\n",
    "lasso.fit(X_train_sc, y_train)\n",
    "metrics_plots(lasso, X_train_sc, y_train, X_test_sc, y_test)\n",
    "# print(f'train score = {lasso.score(X_train_sc, y_train)} \\ntest score = {lasso.score(X_test_sc, y_test)}')\n",
    "# reg_plots(lasso, X_train_sc, y_train, X_test_sc, y_test)"
   ]
  },
  {
   "cell_type": "markdown",
   "id": "b18523e5-cf38-40be-8ec7-251b44445025",
   "metadata": {},
   "source": [
    "#### Ridge Regression"
   ]
  },
  {
   "cell_type": "code",
   "execution_count": 162,
   "id": "10c09c19-7b29-4344-90ef-8f8f75095c04",
   "metadata": {},
   "outputs": [
    {
     "name": "stdout",
     "output_type": "stream",
     "text": [
      "Train Scores \n",
      "R2 score = 0.806377392115078 \n",
      "Root Mean Squared Error = 95109.85282814877 \n",
      "Mean Absolute Error = 21402.185492612407\n",
      "Test Scores \n",
      "R2 score = 0.869174659735318 \n",
      "Root Mean Squared Error = 67832.77156534846 \n",
      "Mean Absolute Error = 25347.881635156053\n"
     ]
    },
    {
     "data": {
      "image/png": "[encoded data removed]",
      "text/plain": [
       "<Figure size 432x288 with 1 Axes>"
      ]
     },
     "metadata": {
      "needs_background": "light"
     },
     "output_type": "display_data"
    }
   ],
   "source": [
    "ridge = Ridge()\n",
    "ridge.fit(X_train_sc, y_train)\n",
    "metrics_plots(ridge, X_train_sc, y_train, X_test_sc, y_test)\n",
    "# print(f'train score = {ridge.score(X_train_sc, y_train)} \\ntest score = {ridge.score(X_test_sc, y_test)}')\n",
    "# reg_plots(ridge, X_train_sc, y_train, X_test_sc, y_test)"
   ]
  },
  {
   "cell_type": "markdown",
   "id": "2d197677-e4e3-4f1a-b9f0-7a337c11defe",
   "metadata": {},
   "source": [
    "#### ElasticNet"
   ]
  },
  {
   "cell_type": "code",
   "execution_count": 163,
   "id": "8106eeba-149f-4a08-84ea-66cc07b67193",
   "metadata": {},
   "outputs": [
    {
     "name": "stdout",
     "output_type": "stream",
     "text": [
      "Train Scores \n",
      "R2 score = 0.806377392115078 \n",
      "Root Mean Squared Error = 95109.85282814877 \n",
      "Mean Absolute Error = 21402.185492612407\n",
      "Test Scores \n",
      "R2 score = 0.869174659735318 \n",
      "Root Mean Squared Error = 67832.77156534846 \n",
      "Mean Absolute Error = 25347.881635156053\n"
     ]
    },
    {
     "data": {
      "image/png": "[encoded data removed]",
      "text/plain": [
       "<Figure size 432x288 with 1 Axes>"
      ]
     },
     "metadata": {
      "needs_background": "light"
     },
     "output_type": "display_data"
    }
   ],
   "source": [
    "en = ElasticNet()\n",
    "en.fit(X_train_sc, y_train)\n",
    "metrics_plots(ridge, X_train_sc, y_train, X_test_sc, y_test)\n",
    "# print(f'train score = {ridge.score(X_train_sc, y_train)} \\ntest score = {ridge.score(X_test_sc, y_test)}')\n",
    "# reg_plots(ridge, X_train_sc, y_train, X_test_sc, y_test)"
   ]
  },
  {
   "cell_type": "markdown",
   "id": "ece76fdd-8a2d-4349-a29b-4d3d18e0926e",
   "metadata": {},
   "source": [
    "#### The Lasso, Ridge, and Elasticnet models are performing nearly identically to the Linear Regression Model, showing robust R2 scores of > .8 for both training and test sets.   We are also seeing similar Root Mean Squared Error and Mean Absolute Error values for all of these models.  Surprisingly, the models are showing slightly better scores on the training set than on the test set.  This is probably the result of the random train test split, and the relatively small sample size of just over 3,000 counties. "
   ]
  },
  {
   "cell_type": "code",
   "execution_count": null,
   "id": "14ae2a70-085e-4b4d-8084-71944091ac21",
   "metadata": {},
   "outputs": [],
   "source": []
  },
  {
   "cell_type": "markdown",
   "id": "b0acf47e-1f48-41f0-ad29-db1405400b66",
   "metadata": {},
   "source": [
    "#### Decision Tree Regressor"
   ]
  },
  {
   "cell_type": "code",
   "execution_count": 164,
   "id": "41080e57-2da5-42c3-8a74-f89de84d59f0",
   "metadata": {},
   "outputs": [
    {
     "name": "stdout",
     "output_type": "stream",
     "text": [
      "Train Scores \n",
      "R2 score = 1.0 \n",
      "Root Mean Squared Error = 0.0 \n",
      "Mean Absolute Error = 0.0\n",
      "Test Scores \n",
      "R2 score = 0.8037324780608253 \n",
      "Root Mean Squared Error = 83084.08574367453 \n",
      "Mean Absolute Error = 22182.365909460852\n"
     ]
    },
    {
     "data": {
      "image/png": "[encoded data removed]",
      "text/plain": [
       "<Figure size 432x288 with 1 Axes>"
      ]
     },
     "metadata": {
      "needs_background": "light"
     },
     "output_type": "display_data"
    }
   ],
   "source": [
    "dt = DecisionTreeRegressor()\n",
    "dt.fit(X_train, y_train)\n",
    "metrics_plots(dt, X_train, y_train, X_test, y_test)\n",
    "# print(f'train score = {dt.score(X_train, y_train)} \\ntest score = {dt.score(X_test, y_test)}')\n",
    "# reg_plots(dt, X_train, y_train, X_test, y_test)"
   ]
  },
  {
   "cell_type": "markdown",
   "id": "676a55cb-f9c6-4e3e-bbc3-bf1ce6ca8fdf",
   "metadata": {},
   "source": [
    "#### Random Forest Regressor"
   ]
  },
  {
   "cell_type": "code",
   "execution_count": 165,
   "id": "1ebcd3b2-e6b6-4b1f-ab8b-5c1ac27ddd3a",
   "metadata": {},
   "outputs": [
    {
     "name": "stdout",
     "output_type": "stream",
     "text": [
      "Train Scores \n",
      "R2 score = 0.9517266722496587 \n",
      "Root Mean Squared Error = 47489.882615356684 \n",
      "Mean Absolute Error = 7753.67513684618\n",
      "Test Scores \n",
      "R2 score = 0.8364573903580782 \n",
      "Root Mean Squared Error = 75841.87956330687 \n",
      "Mean Absolute Error = 18600.738644023888\n"
     ]
    },
    {
     "data": {
      "image/png": "[encoded data removed]",
      "text/plain": [
       "<Figure size 432x288 with 1 Axes>"
      ]
     },
     "metadata": {
      "needs_background": "light"
     },
     "output_type": "display_data"
    }
   ],
   "source": [
    "rf = RandomForestRegressor()\n",
    "rf.fit(X_train, y_train)\n",
    "metrics_plots(rf, X_train, y_train, X_test, y_test)\n",
    "# print(f'train score = {rf.score(X_train, y_train)} \\ntest score = {rf.score(X_test, y_test)}')\n",
    "# reg_plots(rf, X_train, y_train, X_test, y_test)"
   ]
  },
  {
   "cell_type": "markdown",
   "id": "36a16f5c-edd8-45a1-b020-88fd2bf9140b",
   "metadata": {},
   "source": [
    "#### XGBoost Regressor"
   ]
  },
  {
   "cell_type": "code",
   "execution_count": 166,
   "id": "8717dd4d-9a26-4843-af69-a13cfdd0b7fc",
   "metadata": {},
   "outputs": [
    {
     "name": "stdout",
     "output_type": "stream",
     "text": [
      "Train Scores \n",
      "R2 score = 0.999904505330801 \n",
      "Root Mean Squared Error = 2112.2097418114286 \n",
      "Mean Absolute Error = 1440.5451530699156\n",
      "Test Scores \n",
      "R2 score = 0.8265000744463649 \n",
      "Root Mean Squared Error = 78116.58913227661 \n",
      "Mean Absolute Error = 18546.35913994379\n"
     ]
    },
    {
     "data": {
      "image/png": "[encoded data removed]",
      "text/plain": [
       "<Figure size 432x288 with 1 Axes>"
      ]
     },
     "metadata": {
      "needs_background": "light"
     },
     "output_type": "display_data"
    }
   ],
   "source": [
    "xgb = XGBRegressor()\n",
    "xgb.fit(X_train, y_train)\n",
    "metrics_plots(xgb, X_train, y_train, X_test, y_test)\n",
    "# print(f'train score = {xgb.score(X_train, y_train)} \\ntest score = {xgb.score(X_test, y_test)}')\n",
    "# reg_plots(xgb, X_train, y_train, X_test, y_test)"
   ]
  },
  {
   "cell_type": "markdown",
   "id": "be134abf-f204-4622-a9ea-0fcf823f6de3",
   "metadata": {
    "tags": []
   },
   "source": [
    "##### All of the tree type models are all showing extremely high R2 scores on the training set.  The Decision Tree model in particular shows a perfect R2 score of 1.0, and RMSE and MAE scores of 0, indicating that it is fitting each point exactly.  However, all three models are showing a large difference between the train and test scores, indicating that they are heavily overfit to the training data.  Each is showing an R2 score of around .8 on the test set, and have higher error scores than the earlier models. "
   ]
  },
  {
   "cell_type": "markdown",
   "id": "56d9d947-1678-4cca-9896-56f33c8d4a49",
   "metadata": {},
   "source": [
    "##### All of the basic models scored reasonably well, but due to the overfitting of the decision tree models, I am going to continue on with one of the earlier models for further tuning."
   ]
  },
  {
   "cell_type": "markdown",
   "id": "b9911fa3-1f52-4d3e-904f-59477a6e4ede",
   "metadata": {},
   "source": [
    "## Tuning Lasso Model"
   ]
  },
  {
   "cell_type": "code",
   "execution_count": 167,
   "id": "a2ccd275-9e52-455a-a4aa-9beb79bab558",
   "metadata": {
    "tags": []
   },
   "outputs": [],
   "source": [
    "lasso = Lasso()\n",
    "params = {\n",
    "    'alpha': [ 0, .00001, .0001, .001, .01, .1, .25, .5, .75, .9, 1, 5, 10],\n",
    "    'max_iter': [10000]\n",
    "}\n",
    "gs = GridSearchCV(lasso, param_grid=params, verbose=1, n_jobs=-1)"
   ]
  },
  {
   "cell_type": "code",
   "execution_count": 168,
   "id": "18d8ab21-7d6c-4303-ba18-51494834b393",
   "metadata": {},
   "outputs": [
    {
     "name": "stdout",
     "output_type": "stream",
     "text": [
      "Fitting 5 folds for each of 13 candidates, totalling 65 fits\n"
     ]
    },
    {
     "data": {
      "text/plain": [
       "GridSearchCV(estimator=Lasso(), n_jobs=-1,\n",
       "             param_grid={'alpha': [0, 1e-05, 0.0001, 0.001, 0.01, 0.1, 0.25,\n",
       "                                   0.5, 0.75, 0.9, 1, 5, 10],\n",
       "                         'max_iter': [10000]},\n",
       "             verbose=1)"
      ]
     },
     "execution_count": 168,
     "metadata": {},
     "output_type": "execute_result"
    }
   ],
   "source": [
    "gs.fit(X_train_sc, y_train)"
   ]
  },
  {
   "cell_type": "code",
   "execution_count": 169,
   "id": "e5cf9df5-1e07-4639-abac-9d8d5be51304",
   "metadata": {},
   "outputs": [
    {
     "data": {
      "text/plain": [
       "(0.8063782012866011, 0.8690524691145309)"
      ]
     },
     "execution_count": 169,
     "metadata": {},
     "output_type": "execute_result"
    }
   ],
   "source": [
    "gs.score(X_train_sc, y_train), gs.score(X_test_sc, y_test)"
   ]
  },
  {
   "cell_type": "code",
   "execution_count": 170,
   "id": "45242eab-4fab-4261-924f-72a8329d92d1",
   "metadata": {},
   "outputs": [
    {
     "data": {
      "text/plain": [
       "{'alpha': 10, 'max_iter': 10000}"
      ]
     },
     "execution_count": 170,
     "metadata": {},
     "output_type": "execute_result"
    }
   ],
   "source": [
    "gs.best_params_"
   ]
  },
  {
   "cell_type": "markdown",
   "id": "4c075b9c-63a7-4038-a25b-d348e909e930",
   "metadata": {},
   "source": [
    "##### The Lasso gridsearch is returning an alpha of 10 as the best parameter, indicating some scaling down and elimination of features."
   ]
  },
  {
   "cell_type": "code",
   "execution_count": 171,
   "id": "bbb2c25e-5d85-4669-933c-df3497eaf3e1",
   "metadata": {},
   "outputs": [
    {
     "name": "stdout",
     "output_type": "stream",
     "text": [
      "Train Scores \n",
      "R2 score = 0.8063782012866011 \n",
      "Root Mean Squared Error = 95109.65409034194 \n",
      "Mean Absolute Error = 21389.578916787737\n",
      "Test Scores \n",
      "R2 score = 0.8690524691145309 \n",
      "Root Mean Squared Error = 67864.4420123212 \n",
      "Mean Absolute Error = 25329.692912666556\n"
     ]
    },
    {
     "data": {
      "image/png": "[encoded data removed]",
      "text/plain": [
       "<Figure size 432x288 with 1 Axes>"
      ]
     },
     "metadata": {
      "needs_background": "light"
     },
     "output_type": "display_data"
    }
   ],
   "source": [
    "metrics_plots(gs, X_train_sc, y_train, X_test_sc, y_test)"
   ]
  },
  {
   "cell_type": "markdown",
   "id": "cbe8ce1c-2455-4277-85c1-501a88501b2b",
   "metadata": {},
   "source": [
    "### Coefficients"
   ]
  },
  {
   "cell_type": "code",
   "execution_count": 172,
   "id": "b1e0b70a-d77e-4ba3-91f7-021e8e7023f2",
   "metadata": {},
   "outputs": [
    {
     "data": {
      "text/plain": [
       "array([-2.64673822e+04,  2.10165371e+05, -8.57623155e+02,  1.60561549e+03,\n",
       "       -7.46941068e+03, -1.44857940e+04, -3.26971124e+03, -1.56115316e+03,\n",
       "        2.38913842e+03, -1.93874960e+04,  1.67972149e+03, -4.41046273e+01,\n",
       "        1.04918947e+04, -1.30477696e+03,  1.72078291e+04,  1.07831770e+03,\n",
       "       -5.02085341e+03,  6.23423373e+03,  8.30397626e+02, -3.07326686e+02,\n",
       "        6.38984103e+02, -9.29775818e+02, -1.01478843e+00, -4.96830088e+02,\n",
       "       -1.46742073e+03,  6.31153007e+04, -1.60111286e+03, -2.11435344e+03,\n",
       "        3.93187840e+02, -2.53482545e+03, -5.11261734e+02, -3.13873363e+02,\n",
       "       -3.71786277e+02,  1.74087175e+03,  6.76751093e+00,  2.61819591e+03,\n",
       "        0.00000000e+00,  3.66502304e+02, -1.23819384e+03, -5.26959194e+02,\n",
       "       -2.71277124e+03,  1.75821877e+03,  4.74876982e+02, -1.20780543e+03,\n",
       "        7.88049956e+02,  1.73694685e+03,  2.80626797e+03, -3.72287269e+03,\n",
       "       -6.43959529e+02, -1.12760443e+03, -8.25908333e+02,  7.95265665e+02,\n",
       "       -2.99093558e+02,  1.05778314e+04,  3.39971666e+03, -3.14237124e+02,\n",
       "       -3.19252579e+03,  1.17203167e+03,  1.96946622e+03, -2.86549456e+02,\n",
       "        4.36148750e+03, -0.00000000e+00, -3.56354849e+02,  3.85560320e+03,\n",
       "       -4.37884340e+02, -6.10370541e+03, -1.09916425e+03,  4.73445313e+03,\n",
       "        9.67645720e+02])"
      ]
     },
     "execution_count": 172,
     "metadata": {},
     "output_type": "execute_result"
    }
   ],
   "source": [
    "gs.best_estimator_.coef_"
   ]
  },
  {
   "cell_type": "code",
   "execution_count": 173,
   "id": "969c7011-28f9-4e2d-ad1c-070c63571d99",
   "metadata": {},
   "outputs": [
    {
     "data": {
      "text/html": [
       "<div>\n",
       "<style scoped>\n",
       "    .dataframe tbody tr th:only-of-type {\n",
       "        vertical-align: middle;\n",
       "    }\n",
       "\n",
       "    .dataframe tbody tr th {\n",
       "        vertical-align: top;\n",
       "    }\n",
       "\n",
       "    .dataframe thead th {\n",
       "        text-align: right;\n",
       "    }\n",
       "</style>\n",
       "<table border=\"1\" class=\"dataframe\">\n",
       "  <thead>\n",
       "    <tr style=\"text-align: right;\">\n",
       "      <th></th>\n",
       "      <th>features</th>\n",
       "      <th>coefs</th>\n",
       "    </tr>\n",
       "  </thead>\n",
       "  <tbody>\n",
       "    <tr>\n",
       "      <th>1</th>\n",
       "      <td>vet_pop</td>\n",
       "      <td>210165.370774</td>\n",
       "    </tr>\n",
       "    <tr>\n",
       "      <th>25</th>\n",
       "      <td>state_dc</td>\n",
       "      <td>63115.300705</td>\n",
       "    </tr>\n",
       "    <tr>\n",
       "      <th>14</th>\n",
       "      <td>food_insecure_pct</td>\n",
       "      <td>17207.829101</td>\n",
       "    </tr>\n",
       "    <tr>\n",
       "      <th>53</th>\n",
       "      <td>state_oh</td>\n",
       "      <td>10577.831422</td>\n",
       "    </tr>\n",
       "    <tr>\n",
       "      <th>12</th>\n",
       "      <td>excess_alcohol_pct</td>\n",
       "      <td>10491.894716</td>\n",
       "    </tr>\n",
       "    <tr>\n",
       "      <th>17</th>\n",
       "      <td>rural_pct</td>\n",
       "      <td>6234.233734</td>\n",
       "    </tr>\n",
       "    <tr>\n",
       "      <th>67</th>\n",
       "      <td>state_wv</td>\n",
       "      <td>4734.453127</td>\n",
       "    </tr>\n",
       "    <tr>\n",
       "      <th>60</th>\n",
       "      <td>state_tn</td>\n",
       "      <td>4361.487495</td>\n",
       "    </tr>\n",
       "    <tr>\n",
       "      <th>63</th>\n",
       "      <td>state_va</td>\n",
       "      <td>3855.603198</td>\n",
       "    </tr>\n",
       "    <tr>\n",
       "      <th>54</th>\n",
       "      <td>state_ok</td>\n",
       "      <td>3399.716657</td>\n",
       "    </tr>\n",
       "    <tr>\n",
       "      <th>46</th>\n",
       "      <td>state_nd</td>\n",
       "      <td>2806.267966</td>\n",
       "    </tr>\n",
       "    <tr>\n",
       "      <th>35</th>\n",
       "      <td>state_ky</td>\n",
       "      <td>2618.195909</td>\n",
       "    </tr>\n",
       "    <tr>\n",
       "      <th>8</th>\n",
       "      <td>severe_housing_problems_pct</td>\n",
       "      <td>2389.138416</td>\n",
       "    </tr>\n",
       "    <tr>\n",
       "      <th>58</th>\n",
       "      <td>state_sc</td>\n",
       "      <td>1969.466217</td>\n",
       "    </tr>\n",
       "    <tr>\n",
       "      <th>41</th>\n",
       "      <td>state_mn</td>\n",
       "      <td>1758.218767</td>\n",
       "    </tr>\n",
       "  </tbody>\n",
       "</table>\n",
       "</div>"
      ],
      "text/plain": [
       "                       features          coefs\n",
       "1                       vet_pop  210165.370774\n",
       "25                     state_dc   63115.300705\n",
       "14            food_insecure_pct   17207.829101\n",
       "53                     state_oh   10577.831422\n",
       "12           excess_alcohol_pct   10491.894716\n",
       "17                    rural_pct    6234.233734\n",
       "67                     state_wv    4734.453127\n",
       "60                     state_tn    4361.487495\n",
       "63                     state_va    3855.603198\n",
       "54                     state_ok    3399.716657\n",
       "46                     state_nd    2806.267966\n",
       "35                     state_ky    2618.195909\n",
       "8   severe_housing_problems_pct    2389.138416\n",
       "58                     state_sc    1969.466217\n",
       "41                     state_mn    1758.218767"
      ]
     },
     "execution_count": 173,
     "metadata": {},
     "output_type": "execute_result"
    }
   ],
   "source": [
    "coefs = pd.DataFrame()\n",
    "coefs['features'] = X.columns\n",
    "coefs['coefs'] = gs.best_estimator_.coef_\n",
    "coefs.sort_values(by='coefs', ascending=False).head(15)"
   ]
  },
  {
   "cell_type": "markdown",
   "id": "6dece868-8db8-4083-81c2-7a373d2aad76",
   "metadata": {},
   "source": [
    "##### The highest correlation for VA expenditures per county is the veteran population, which is not really surprising.  Food insecurity, excess alcohol usage, and % of the population living in rural areas also show high correlation with expenditures.\n",
    "\n",
    "##### Regarding location, Washington DC has the highest correlation with VA spending.  Counties being in the states of Ohio, West Virginia, Tennessee, Virginia, and Oklahoma also show a significant correlation."
   ]
  },
  {
   "cell_type": "markdown",
   "id": "1e369711-82f5-482c-99d5-9df6f0ea8502",
   "metadata": {},
   "source": [
    "#### Health Coefficients"
   ]
  },
  {
   "cell_type": "code",
   "execution_count": 174,
   "id": "ea8618c5-2f4a-4364-9e97-c83fb5b955b6",
   "metadata": {},
   "outputs": [
    {
     "data": {
      "text/html": [
       "<div>\n",
       "<style scoped>\n",
       "    .dataframe tbody tr th:only-of-type {\n",
       "        vertical-align: middle;\n",
       "    }\n",
       "\n",
       "    .dataframe tbody tr th {\n",
       "        vertical-align: top;\n",
       "    }\n",
       "\n",
       "    .dataframe thead th {\n",
       "        text-align: right;\n",
       "    }\n",
       "</style>\n",
       "<table border=\"1\" class=\"dataframe\">\n",
       "  <thead>\n",
       "    <tr style=\"text-align: right;\">\n",
       "      <th></th>\n",
       "      <th>features</th>\n",
       "      <th>coefs</th>\n",
       "    </tr>\n",
       "  </thead>\n",
       "  <tbody>\n",
       "    <tr>\n",
       "      <th>14</th>\n",
       "      <td>food_insecure_pct</td>\n",
       "      <td>17207.829101</td>\n",
       "    </tr>\n",
       "    <tr>\n",
       "      <th>12</th>\n",
       "      <td>excess_alcohol_pct</td>\n",
       "      <td>10491.894716</td>\n",
       "    </tr>\n",
       "    <tr>\n",
       "      <th>10</th>\n",
       "      <td>obesity_pct</td>\n",
       "      <td>1679.721487</td>\n",
       "    </tr>\n",
       "    <tr>\n",
       "      <th>11</th>\n",
       "      <td>inactive_pct</td>\n",
       "      <td>-44.104627</td>\n",
       "    </tr>\n",
       "    <tr>\n",
       "      <th>13</th>\n",
       "      <td>diabetes_pct</td>\n",
       "      <td>-1304.776960</td>\n",
       "    </tr>\n",
       "  </tbody>\n",
       "</table>\n",
       "</div>"
      ],
      "text/plain": [
       "              features         coefs\n",
       "14   food_insecure_pct  17207.829101\n",
       "12  excess_alcohol_pct  10491.894716\n",
       "10         obesity_pct   1679.721487\n",
       "11        inactive_pct    -44.104627\n",
       "13        diabetes_pct  -1304.776960"
      ]
     },
     "execution_count": 174,
     "metadata": {},
     "output_type": "execute_result"
    }
   ],
   "source": [
    "health_coefs = coefs[coefs['features'].isin(health_cols)]\n",
    "health_coefs.sort_values(by='coefs', ascending=False).head()"
   ]
  },
  {
   "cell_type": "markdown",
   "id": "acd91666-3419-42d3-ba86-10d20b484726",
   "metadata": {},
   "source": [
    "##### Subdividing the features into those related to health, food insecurity has the highest correlation to spending, followed by excess alcohol use and obesity rate.  In this model, higher percentages of the population being inactive and having diabetes actually to a negative correlation.  "
   ]
  },
  {
   "cell_type": "markdown",
   "id": "2c3c2829-8a12-4147-9da5-58660b51bb8b",
   "metadata": {},
   "source": [
    "#### Population Coefficients"
   ]
  },
  {
   "cell_type": "code",
   "execution_count": 175,
   "id": "3fb099f0-22a2-499b-ae6b-daab7a8aff5a",
   "metadata": {},
   "outputs": [
    {
     "data": {
      "text/html": [
       "<div>\n",
       "<style scoped>\n",
       "    .dataframe tbody tr th:only-of-type {\n",
       "        vertical-align: middle;\n",
       "    }\n",
       "\n",
       "    .dataframe tbody tr th {\n",
       "        vertical-align: top;\n",
       "    }\n",
       "\n",
       "    .dataframe thead th {\n",
       "        text-align: right;\n",
       "    }\n",
       "</style>\n",
       "<table border=\"1\" class=\"dataframe\">\n",
       "  <thead>\n",
       "    <tr style=\"text-align: right;\">\n",
       "      <th></th>\n",
       "      <th>features</th>\n",
       "      <th>coefs</th>\n",
       "    </tr>\n",
       "  </thead>\n",
       "  <tbody>\n",
       "    <tr>\n",
       "      <th>1</th>\n",
       "      <td>vet_pop</td>\n",
       "      <td>210165.370774</td>\n",
       "    </tr>\n",
       "    <tr>\n",
       "      <th>2</th>\n",
       "      <td>state_va_fac</td>\n",
       "      <td>-857.623155</td>\n",
       "    </tr>\n",
       "    <tr>\n",
       "      <th>0</th>\n",
       "      <td>county_pop</td>\n",
       "      <td>-26467.382199</td>\n",
       "    </tr>\n",
       "  </tbody>\n",
       "</table>\n",
       "</div>"
      ],
      "text/plain": [
       "       features          coefs\n",
       "1       vet_pop  210165.370774\n",
       "2  state_va_fac    -857.623155\n",
       "0    county_pop  -26467.382199"
      ]
     },
     "execution_count": 175,
     "metadata": {},
     "output_type": "execute_result"
    }
   ],
   "source": [
    "pop_coefs = coefs[coefs['features'].isin(pop_cols)]\n",
    "pop_coefs.sort_values(by='coefs', ascending=False)"
   ]
  },
  {
   "cell_type": "markdown",
   "id": "7e900cc5-b182-4997-953f-ac652865dba8",
   "metadata": {},
   "source": [
    "##### Interestingly, total county population has a negative correlation with spending in this model.  However, it is an order of magnitude lower than veteran population, so this is most likely to a relationship between the two."
   ]
  },
  {
   "cell_type": "markdown",
   "id": "6a8c8e4c-46c6-4b04-8db7-a8d07a0c2b43",
   "metadata": {},
   "source": [
    "#### Education Coefficients"
   ]
  },
  {
   "cell_type": "code",
   "execution_count": 176,
   "id": "30379fa6-c67a-484c-a6b0-8bf2f60a4290",
   "metadata": {},
   "outputs": [
    {
     "data": {
      "text/html": [
       "<div>\n",
       "<style scoped>\n",
       "    .dataframe tbody tr th:only-of-type {\n",
       "        vertical-align: middle;\n",
       "    }\n",
       "\n",
       "    .dataframe tbody tr th {\n",
       "        vertical-align: top;\n",
       "    }\n",
       "\n",
       "    .dataframe thead th {\n",
       "        text-align: right;\n",
       "    }\n",
       "</style>\n",
       "<table border=\"1\" class=\"dataframe\">\n",
       "  <thead>\n",
       "    <tr style=\"text-align: right;\">\n",
       "      <th></th>\n",
       "      <th>features</th>\n",
       "      <th>coefs</th>\n",
       "    </tr>\n",
       "  </thead>\n",
       "  <tbody>\n",
       "    <tr>\n",
       "      <th>3</th>\n",
       "      <td>hs_grad_pct</td>\n",
       "      <td>1605.615490</td>\n",
       "    </tr>\n",
       "    <tr>\n",
       "      <th>4</th>\n",
       "      <td>clg_grad_pct</td>\n",
       "      <td>-7469.410678</td>\n",
       "    </tr>\n",
       "  </tbody>\n",
       "</table>\n",
       "</div>"
      ],
      "text/plain": [
       "       features        coefs\n",
       "3   hs_grad_pct  1605.615490\n",
       "4  clg_grad_pct -7469.410678"
      ]
     },
     "execution_count": 176,
     "metadata": {},
     "output_type": "execute_result"
    }
   ],
   "source": [
    "edu_coefs = coefs[coefs['features'].isin(edu_cols)]\n",
    "edu_coefs.sort_values(by='coefs', ascending=False).head()"
   ]
  },
  {
   "cell_type": "code",
   "execution_count": null,
   "id": "9cd11594-ec54-4954-b822-0aca22c7d873",
   "metadata": {},
   "outputs": [],
   "source": []
  },
  {
   "cell_type": "markdown",
   "id": "014bb00a-009a-42dd-925e-bc391c8d74ee",
   "metadata": {},
   "source": [
    "#### Economic Coefficients"
   ]
  },
  {
   "cell_type": "code",
   "execution_count": 177,
   "id": "0e522351-4054-45bc-83af-b2da2cf92513",
   "metadata": {},
   "outputs": [
    {
     "data": {
      "text/html": [
       "<div>\n",
       "<style scoped>\n",
       "    .dataframe tbody tr th:only-of-type {\n",
       "        vertical-align: middle;\n",
       "    }\n",
       "\n",
       "    .dataframe tbody tr th {\n",
       "        vertical-align: top;\n",
       "    }\n",
       "\n",
       "    .dataframe thead th {\n",
       "        text-align: right;\n",
       "    }\n",
       "</style>\n",
       "<table border=\"1\" class=\"dataframe\">\n",
       "  <thead>\n",
       "    <tr style=\"text-align: right;\">\n",
       "      <th></th>\n",
       "      <th>features</th>\n",
       "      <th>coefs</th>\n",
       "    </tr>\n",
       "  </thead>\n",
       "  <tbody>\n",
       "    <tr>\n",
       "      <th>8</th>\n",
       "      <td>severe_housing_problems_pct</td>\n",
       "      <td>2389.138416</td>\n",
       "    </tr>\n",
       "    <tr>\n",
       "      <th>7</th>\n",
       "      <td>unemployment_pct</td>\n",
       "      <td>-1561.153161</td>\n",
       "    </tr>\n",
       "    <tr>\n",
       "      <th>6</th>\n",
       "      <td>poverty_pct</td>\n",
       "      <td>-3269.711244</td>\n",
       "    </tr>\n",
       "    <tr>\n",
       "      <th>5</th>\n",
       "      <td>median_income</td>\n",
       "      <td>-14485.794050</td>\n",
       "    </tr>\n",
       "  </tbody>\n",
       "</table>\n",
       "</div>"
      ],
      "text/plain": [
       "                      features         coefs\n",
       "8  severe_housing_problems_pct   2389.138416\n",
       "7             unemployment_pct  -1561.153161\n",
       "6                  poverty_pct  -3269.711244\n",
       "5                median_income -14485.794050"
      ]
     },
     "execution_count": 177,
     "metadata": {},
     "output_type": "execute_result"
    }
   ],
   "source": [
    "econ_coefs = coefs[coefs['features'].isin(econ_cols)]\n",
    "econ_coefs.sort_values(by='coefs', ascending=False).head()"
   ]
  },
  {
   "cell_type": "code",
   "execution_count": null,
   "id": "e4121878-9de9-4d2a-8c8a-a600e203d59c",
   "metadata": {},
   "outputs": [],
   "source": []
  },
  {
   "cell_type": "markdown",
   "id": "d1397dc2-ccb4-412d-ba62-dca4cd64c4ab",
   "metadata": {},
   "source": [
    "#### Community Coefficients"
   ]
  },
  {
   "cell_type": "code",
   "execution_count": 178,
   "id": "489d374b-55aa-4c60-9b08-85c8bda19292",
   "metadata": {},
   "outputs": [
    {
     "data": {
      "text/html": [
       "<div>\n",
       "<style scoped>\n",
       "    .dataframe tbody tr th:only-of-type {\n",
       "        vertical-align: middle;\n",
       "    }\n",
       "\n",
       "    .dataframe tbody tr th {\n",
       "        vertical-align: top;\n",
       "    }\n",
       "\n",
       "    .dataframe thead th {\n",
       "        text-align: right;\n",
       "    }\n",
       "</style>\n",
       "<table border=\"1\" class=\"dataframe\">\n",
       "  <thead>\n",
       "    <tr style=\"text-align: right;\">\n",
       "      <th></th>\n",
       "      <th>features</th>\n",
       "      <th>coefs</th>\n",
       "    </tr>\n",
       "  </thead>\n",
       "  <tbody>\n",
       "    <tr>\n",
       "      <th>17</th>\n",
       "      <td>rural_pct</td>\n",
       "      <td>6234.233734</td>\n",
       "    </tr>\n",
       "    <tr>\n",
       "      <th>15</th>\n",
       "      <td>age_under18_pct</td>\n",
       "      <td>1078.317702</td>\n",
       "    </tr>\n",
       "    <tr>\n",
       "      <th>16</th>\n",
       "      <td>age_over65_pct</td>\n",
       "      <td>-5020.853406</td>\n",
       "    </tr>\n",
       "  </tbody>\n",
       "</table>\n",
       "</div>"
      ],
      "text/plain": [
       "           features        coefs\n",
       "17        rural_pct  6234.233734\n",
       "15  age_under18_pct  1078.317702\n",
       "16   age_over65_pct -5020.853406"
      ]
     },
     "execution_count": 178,
     "metadata": {},
     "output_type": "execute_result"
    }
   ],
   "source": [
    "community_coefs = coefs[coefs['features'].isin(community_cols)]\n",
    "community_coefs.sort_values(by='coefs', ascending=False).head()"
   ]
  },
  {
   "cell_type": "markdown",
   "id": "b65a2c60-889c-47f8-95d3-05d61aff0b44",
   "metadata": {},
   "source": [
    "#### State Coefficients"
   ]
  },
  {
   "cell_type": "code",
   "execution_count": 179,
   "id": "6b36dfa3-0a1e-46a8-b6aa-5102317f1301",
   "metadata": {},
   "outputs": [
    {
     "data": {
      "text/html": [
       "<div>\n",
       "<style scoped>\n",
       "    .dataframe tbody tr th:only-of-type {\n",
       "        vertical-align: middle;\n",
       "    }\n",
       "\n",
       "    .dataframe tbody tr th {\n",
       "        vertical-align: top;\n",
       "    }\n",
       "\n",
       "    .dataframe thead th {\n",
       "        text-align: right;\n",
       "    }\n",
       "</style>\n",
       "<table border=\"1\" class=\"dataframe\">\n",
       "  <thead>\n",
       "    <tr style=\"text-align: right;\">\n",
       "      <th></th>\n",
       "      <th>features</th>\n",
       "      <th>coefs</th>\n",
       "    </tr>\n",
       "  </thead>\n",
       "  <tbody>\n",
       "    <tr>\n",
       "      <th>25</th>\n",
       "      <td>state_dc</td>\n",
       "      <td>63115.300705</td>\n",
       "    </tr>\n",
       "    <tr>\n",
       "      <th>53</th>\n",
       "      <td>state_oh</td>\n",
       "      <td>10577.831422</td>\n",
       "    </tr>\n",
       "    <tr>\n",
       "      <th>67</th>\n",
       "      <td>state_wv</td>\n",
       "      <td>4734.453127</td>\n",
       "    </tr>\n",
       "    <tr>\n",
       "      <th>60</th>\n",
       "      <td>state_tn</td>\n",
       "      <td>4361.487495</td>\n",
       "    </tr>\n",
       "    <tr>\n",
       "      <th>63</th>\n",
       "      <td>state_va</td>\n",
       "      <td>3855.603198</td>\n",
       "    </tr>\n",
       "  </tbody>\n",
       "</table>\n",
       "</div>"
      ],
      "text/plain": [
       "    features         coefs\n",
       "25  state_dc  63115.300705\n",
       "53  state_oh  10577.831422\n",
       "67  state_wv   4734.453127\n",
       "60  state_tn   4361.487495\n",
       "63  state_va   3855.603198"
      ]
     },
     "execution_count": 179,
     "metadata": {},
     "output_type": "execute_result"
    }
   ],
   "source": [
    "state_coefs = coefs[coefs['features'].isin(state_cols)]\n",
    "state_coefs.sort_values(by='coefs', ascending=False).head()"
   ]
  },
  {
   "cell_type": "code",
   "execution_count": null,
   "id": "3feabf15-afe1-473f-8795-7325a95fa360",
   "metadata": {},
   "outputs": [],
   "source": []
  },
  {
   "cell_type": "code",
   "execution_count": null,
   "id": "02f741c7-c128-4250-bdb2-2ca704140333",
   "metadata": {},
   "outputs": [],
   "source": []
  },
  {
   "cell_type": "code",
   "execution_count": null,
   "id": "75cf298d-73d3-4648-a444-f70d061ea510",
   "metadata": {},
   "outputs": [],
   "source": []
  }
 ],
 "metadata": {
  "kernelspec": {
   "display_name": "Python 3 (ipykernel)",
   "language": "python",
   "name": "python3"
  },
  "language_info": {
   "codemirror_mode": {
    "name": "ipython",
    "version": 3
   },
   "file_extension": ".py",
   "mimetype": "text/x-python",
   "name": "python",
   "nbconvert_exporter": "python",
   "pygments_lexer": "ipython3",
   "version": "3.9.7"
  }
 },
 "nbformat": 4,
 "nbformat_minor": 5
}
