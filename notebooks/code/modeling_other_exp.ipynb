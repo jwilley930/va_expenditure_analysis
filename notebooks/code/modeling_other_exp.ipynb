{
 "cells": [
  {
   "cell_type": "markdown",
   "id": "4ea6477c-ea0d-425c-a658-d1d19b81d8ac",
   "metadata": {},
   "source": [
    "# Models for Medical Care, Education, and Per-Veteran Expenditures"
   ]
  },
  {
   "cell_type": "code",
   "execution_count": 39,
   "id": "25b4254e-0605-4d85-ae71-50d3409e5daf",
   "metadata": {},
   "outputs": [],
   "source": [
    "import pandas as pd\n",
    "import numpy as np\n",
    "import matplotlib.pyplot as plt\n",
    "import seaborn as sns\n",
    "\n",
    "from sklearn.model_selection import train_test_split, cross_val_score, GridSearchCV\n",
    "from sklearn.preprocessing import StandardScaler\n",
    "from sklearn.dummy import DummyRegressor\n",
    "\n",
    "from sklearn.metrics import mean_squared_error, r2_score, mean_absolute_error\n",
    "\n",
    "from sklearn.linear_model import LinearRegression, Ridge, Lasso, RidgeCV, LassoCV, ElasticNet\n",
    "from sklearn.svm import SVR\n",
    "from sklearn.tree import DecisionTreeRegressor\n",
    "from sklearn.ensemble import RandomForestRegressor\n",
    "from xgboost import XGBRegressor\n",
    "\n",
    "# from sklearn.model_selection import cross_val_score\n",
    "# \n",
    "\n",
    "# pd.set_option('display.max_rows', None)\n",
    "# pd.set_option('display.max_columns', None)"
   ]
  },
  {
   "cell_type": "code",
   "execution_count": 40,
   "id": "2a1f00a7-8d96-4a7f-8e9a-ade6f5024054",
   "metadata": {},
   "outputs": [],
   "source": [
    "county_df = pd.read_csv('../data/county_df.csv', index_col='county')"
   ]
  },
  {
   "cell_type": "code",
   "execution_count": 41,
   "id": "95135929-9647-423b-98d8-c7e4b2566a2a",
   "metadata": {},
   "outputs": [
    {
     "data": {
      "text/html": [
       "<div>\n",
       "<style scoped>\n",
       "    .dataframe tbody tr th:only-of-type {\n",
       "        vertical-align: middle;\n",
       "    }\n",
       "\n",
       "    .dataframe tbody tr th {\n",
       "        vertical-align: top;\n",
       "    }\n",
       "\n",
       "    .dataframe thead th {\n",
       "        text-align: right;\n",
       "    }\n",
       "</style>\n",
       "<table border=\"1\" class=\"dataframe\">\n",
       "  <thead>\n",
       "    <tr style=\"text-align: right;\">\n",
       "      <th></th>\n",
       "      <th>state</th>\n",
       "      <th>total_exp</th>\n",
       "      <th>medical_care_exp</th>\n",
       "      <th>edu_training_exp</th>\n",
       "      <th>exp_per_vet</th>\n",
       "      <th>county_pop</th>\n",
       "      <th>vet_pop</th>\n",
       "      <th>med_patients</th>\n",
       "      <th>state_va_fac</th>\n",
       "      <th>hs_grad_pct</th>\n",
       "      <th>...</th>\n",
       "      <th>severe_housing_problems_pct</th>\n",
       "      <th>smokers_pct</th>\n",
       "      <th>obesity_pct</th>\n",
       "      <th>inactive_pct</th>\n",
       "      <th>excess_alcohol_pct</th>\n",
       "      <th>diabetes_pct</th>\n",
       "      <th>food_insecure_pct</th>\n",
       "      <th>age_under18_pct</th>\n",
       "      <th>age_over65_pct</th>\n",
       "      <th>rural_pct</th>\n",
       "    </tr>\n",
       "    <tr>\n",
       "      <th>county</th>\n",
       "      <th></th>\n",
       "      <th></th>\n",
       "      <th></th>\n",
       "      <th></th>\n",
       "      <th></th>\n",
       "      <th></th>\n",
       "      <th></th>\n",
       "      <th></th>\n",
       "      <th></th>\n",
       "      <th></th>\n",
       "      <th></th>\n",
       "      <th></th>\n",
       "      <th></th>\n",
       "      <th></th>\n",
       "      <th></th>\n",
       "      <th></th>\n",
       "      <th></th>\n",
       "      <th></th>\n",
       "      <th></th>\n",
       "      <th></th>\n",
       "      <th></th>\n",
       "    </tr>\n",
       "  </thead>\n",
       "  <tbody>\n",
       "    <tr>\n",
       "      <th>autauga</th>\n",
       "      <td>al</td>\n",
       "      <td>75198.383682</td>\n",
       "      <td>20057.504682</td>\n",
       "      <td>4577.286</td>\n",
       "      <td>13.185321</td>\n",
       "      <td>55869</td>\n",
       "      <td>5703.189465</td>\n",
       "      <td>1835.0</td>\n",
       "      <td>24</td>\n",
       "      <td>88.713682</td>\n",
       "      <td>...</td>\n",
       "      <td>13.630967</td>\n",
       "      <td>19.810766</td>\n",
       "      <td>33.0</td>\n",
       "      <td>30.6</td>\n",
       "      <td>14.473886</td>\n",
       "      <td>12.7</td>\n",
       "      <td>15.6</td>\n",
       "      <td>23.206071</td>\n",
       "      <td>15.973080</td>\n",
       "      <td>42.002162</td>\n",
       "    </tr>\n",
       "    <tr>\n",
       "      <th>baldwin</th>\n",
       "      <td>al</td>\n",
       "      <td>177521.631934</td>\n",
       "      <td>50860.502934</td>\n",
       "      <td>7375.405</td>\n",
       "      <td>9.026920</td>\n",
       "      <td>223234</td>\n",
       "      <td>19665.803702</td>\n",
       "      <td>5658.0</td>\n",
       "      <td>24</td>\n",
       "      <td>90.471385</td>\n",
       "      <td>...</td>\n",
       "      <td>12.996651</td>\n",
       "      <td>18.513318</td>\n",
       "      <td>30.0</td>\n",
       "      <td>24.7</td>\n",
       "      <td>18.736958</td>\n",
       "      <td>10.3</td>\n",
       "      <td>12.9</td>\n",
       "      <td>21.302311</td>\n",
       "      <td>20.977987</td>\n",
       "      <td>42.279099</td>\n",
       "    </tr>\n",
       "    <tr>\n",
       "      <th>barbour</th>\n",
       "      <td>al</td>\n",
       "      <td>19914.886299</td>\n",
       "      <td>5575.517299</td>\n",
       "      <td>605.641</td>\n",
       "      <td>10.771528</td>\n",
       "      <td>24686</td>\n",
       "      <td>1848.845078</td>\n",
       "      <td>567.0</td>\n",
       "      <td>24</td>\n",
       "      <td>74.731697</td>\n",
       "      <td>...</td>\n",
       "      <td>13.710555</td>\n",
       "      <td>25.530768</td>\n",
       "      <td>41.2</td>\n",
       "      <td>28.0</td>\n",
       "      <td>12.466974</td>\n",
       "      <td>17.5</td>\n",
       "      <td>21.9</td>\n",
       "      <td>20.586567</td>\n",
       "      <td>19.691323</td>\n",
       "      <td>67.789635</td>\n",
       "    </tr>\n",
       "    <tr>\n",
       "      <th>bibb</th>\n",
       "      <td>al</td>\n",
       "      <td>13536.198918</td>\n",
       "      <td>5398.731918</td>\n",
       "      <td>265.849</td>\n",
       "      <td>10.701738</td>\n",
       "      <td>22394</td>\n",
       "      <td>1264.859814</td>\n",
       "      <td>404.0</td>\n",
       "      <td>24</td>\n",
       "      <td>80.884468</td>\n",
       "      <td>...</td>\n",
       "      <td>9.255242</td>\n",
       "      <td>23.084813</td>\n",
       "      <td>37.4</td>\n",
       "      <td>33.4</td>\n",
       "      <td>15.420603</td>\n",
       "      <td>13.6</td>\n",
       "      <td>15.1</td>\n",
       "      <td>20.349201</td>\n",
       "      <td>16.669644</td>\n",
       "      <td>68.352607</td>\n",
       "    </tr>\n",
       "    <tr>\n",
       "      <th>blount</th>\n",
       "      <td>al</td>\n",
       "      <td>31367.767836</td>\n",
       "      <td>14793.631836</td>\n",
       "      <td>885.531</td>\n",
       "      <td>8.469309</td>\n",
       "      <td>57826</td>\n",
       "      <td>3703.698806</td>\n",
       "      <td>1088.0</td>\n",
       "      <td>24</td>\n",
       "      <td>82.825136</td>\n",
       "      <td>...</td>\n",
       "      <td>10.125665</td>\n",
       "      <td>22.954959</td>\n",
       "      <td>33.0</td>\n",
       "      <td>33.3</td>\n",
       "      <td>15.833284</td>\n",
       "      <td>14.6</td>\n",
       "      <td>13.6</td>\n",
       "      <td>22.922215</td>\n",
       "      <td>18.700930</td>\n",
       "      <td>89.951502</td>\n",
       "    </tr>\n",
       "  </tbody>\n",
       "</table>\n",
       "<p>5 rows × 24 columns</p>\n",
       "</div>"
      ],
      "text/plain": [
       "        state      total_exp  medical_care_exp  edu_training_exp  exp_per_vet  \\\n",
       "county                                                                          \n",
       "autauga    al   75198.383682      20057.504682          4577.286    13.185321   \n",
       "baldwin    al  177521.631934      50860.502934          7375.405     9.026920   \n",
       "barbour    al   19914.886299       5575.517299           605.641    10.771528   \n",
       "bibb       al   13536.198918       5398.731918           265.849    10.701738   \n",
       "blount     al   31367.767836      14793.631836           885.531     8.469309   \n",
       "\n",
       "         county_pop       vet_pop  med_patients  state_va_fac  hs_grad_pct  \\\n",
       "county                                                                       \n",
       "autauga       55869   5703.189465        1835.0            24    88.713682   \n",
       "baldwin      223234  19665.803702        5658.0            24    90.471385   \n",
       "barbour       24686   1848.845078         567.0            24    74.731697   \n",
       "bibb          22394   1264.859814         404.0            24    80.884468   \n",
       "blount        57826   3703.698806        1088.0            24    82.825136   \n",
       "\n",
       "         ...  severe_housing_problems_pct  smokers_pct  obesity_pct  \\\n",
       "county   ...                                                          \n",
       "autauga  ...                    13.630967    19.810766         33.0   \n",
       "baldwin  ...                    12.996651    18.513318         30.0   \n",
       "barbour  ...                    13.710555    25.530768         41.2   \n",
       "bibb     ...                     9.255242    23.084813         37.4   \n",
       "blount   ...                    10.125665    22.954959         33.0   \n",
       "\n",
       "         inactive_pct  excess_alcohol_pct  diabetes_pct  food_insecure_pct  \\\n",
       "county                                                                       \n",
       "autauga          30.6           14.473886          12.7               15.6   \n",
       "baldwin          24.7           18.736958          10.3               12.9   \n",
       "barbour          28.0           12.466974          17.5               21.9   \n",
       "bibb             33.4           15.420603          13.6               15.1   \n",
       "blount           33.3           15.833284          14.6               13.6   \n",
       "\n",
       "         age_under18_pct  age_over65_pct  rural_pct  \n",
       "county                                               \n",
       "autauga        23.206071       15.973080  42.002162  \n",
       "baldwin        21.302311       20.977987  42.279099  \n",
       "barbour        20.586567       19.691323  67.789635  \n",
       "bibb           20.349201       16.669644  68.352607  \n",
       "blount         22.922215       18.700930  89.951502  \n",
       "\n",
       "[5 rows x 24 columns]"
      ]
     },
     "execution_count": 41,
     "metadata": {},
     "output_type": "execute_result"
    }
   ],
   "source": [
    "county_df.head()"
   ]
  },
  {
   "cell_type": "code",
   "execution_count": 42,
   "id": "302228f6-05ee-4b59-bfeb-f1509b30878e",
   "metadata": {},
   "outputs": [],
   "source": [
    "# dropping med_patients column, it has NaN values and won't be used for this model\n",
    "county_df.drop(columns='med_patients', inplace=True)\n",
    "# Encoding state column\n",
    "county_df = pd.get_dummies(county_df, columns=['state'])"
   ]
  },
  {
   "cell_type": "code",
   "execution_count": 43,
   "id": "6bc21683-99e0-48ce-9378-6b68f66d9b34",
   "metadata": {},
   "outputs": [
    {
     "data": {
      "text/html": [
       "<div>\n",
       "<style scoped>\n",
       "    .dataframe tbody tr th:only-of-type {\n",
       "        vertical-align: middle;\n",
       "    }\n",
       "\n",
       "    .dataframe tbody tr th {\n",
       "        vertical-align: top;\n",
       "    }\n",
       "\n",
       "    .dataframe thead th {\n",
       "        text-align: right;\n",
       "    }\n",
       "</style>\n",
       "<table border=\"1\" class=\"dataframe\">\n",
       "  <thead>\n",
       "    <tr style=\"text-align: right;\">\n",
       "      <th></th>\n",
       "      <th>total_exp</th>\n",
       "      <th>medical_care_exp</th>\n",
       "      <th>edu_training_exp</th>\n",
       "      <th>exp_per_vet</th>\n",
       "      <th>county_pop</th>\n",
       "      <th>vet_pop</th>\n",
       "      <th>state_va_fac</th>\n",
       "      <th>hs_grad_pct</th>\n",
       "      <th>clg_grad_pct</th>\n",
       "      <th>median_income</th>\n",
       "      <th>...</th>\n",
       "      <th>state_sd</th>\n",
       "      <th>state_tn</th>\n",
       "      <th>state_tx</th>\n",
       "      <th>state_ut</th>\n",
       "      <th>state_va</th>\n",
       "      <th>state_vt</th>\n",
       "      <th>state_wa</th>\n",
       "      <th>state_wi</th>\n",
       "      <th>state_wv</th>\n",
       "      <th>state_wy</th>\n",
       "    </tr>\n",
       "    <tr>\n",
       "      <th>county</th>\n",
       "      <th></th>\n",
       "      <th></th>\n",
       "      <th></th>\n",
       "      <th></th>\n",
       "      <th></th>\n",
       "      <th></th>\n",
       "      <th></th>\n",
       "      <th></th>\n",
       "      <th></th>\n",
       "      <th></th>\n",
       "      <th></th>\n",
       "      <th></th>\n",
       "      <th></th>\n",
       "      <th></th>\n",
       "      <th></th>\n",
       "      <th></th>\n",
       "      <th></th>\n",
       "      <th></th>\n",
       "      <th></th>\n",
       "      <th></th>\n",
       "      <th></th>\n",
       "    </tr>\n",
       "  </thead>\n",
       "  <tbody>\n",
       "    <tr>\n",
       "      <th>autauga</th>\n",
       "      <td>75198.383682</td>\n",
       "      <td>20057.504682</td>\n",
       "      <td>4577.286</td>\n",
       "      <td>13.185321</td>\n",
       "      <td>55869</td>\n",
       "      <td>5703.189465</td>\n",
       "      <td>24</td>\n",
       "      <td>88.713682</td>\n",
       "      <td>28.317486</td>\n",
       "      <td>67565.0</td>\n",
       "      <td>...</td>\n",
       "      <td>0</td>\n",
       "      <td>0</td>\n",
       "      <td>0</td>\n",
       "      <td>0</td>\n",
       "      <td>0</td>\n",
       "      <td>0</td>\n",
       "      <td>0</td>\n",
       "      <td>0</td>\n",
       "      <td>0</td>\n",
       "      <td>0</td>\n",
       "    </tr>\n",
       "    <tr>\n",
       "      <th>baldwin</th>\n",
       "      <td>177521.631934</td>\n",
       "      <td>50860.502934</td>\n",
       "      <td>7375.405</td>\n",
       "      <td>9.026920</td>\n",
       "      <td>223234</td>\n",
       "      <td>19665.803702</td>\n",
       "      <td>24</td>\n",
       "      <td>90.471385</td>\n",
       "      <td>31.907330</td>\n",
       "      <td>71135.0</td>\n",
       "      <td>...</td>\n",
       "      <td>0</td>\n",
       "      <td>0</td>\n",
       "      <td>0</td>\n",
       "      <td>0</td>\n",
       "      <td>0</td>\n",
       "      <td>0</td>\n",
       "      <td>0</td>\n",
       "      <td>0</td>\n",
       "      <td>0</td>\n",
       "      <td>0</td>\n",
       "    </tr>\n",
       "    <tr>\n",
       "      <th>barbour</th>\n",
       "      <td>19914.886299</td>\n",
       "      <td>5575.517299</td>\n",
       "      <td>605.641</td>\n",
       "      <td>10.771528</td>\n",
       "      <td>24686</td>\n",
       "      <td>1848.845078</td>\n",
       "      <td>24</td>\n",
       "      <td>74.731697</td>\n",
       "      <td>11.614317</td>\n",
       "      <td>38866.0</td>\n",
       "      <td>...</td>\n",
       "      <td>0</td>\n",
       "      <td>0</td>\n",
       "      <td>0</td>\n",
       "      <td>0</td>\n",
       "      <td>0</td>\n",
       "      <td>0</td>\n",
       "      <td>0</td>\n",
       "      <td>0</td>\n",
       "      <td>0</td>\n",
       "      <td>0</td>\n",
       "    </tr>\n",
       "    <tr>\n",
       "      <th>bibb</th>\n",
       "      <td>13536.198918</td>\n",
       "      <td>5398.731918</td>\n",
       "      <td>265.849</td>\n",
       "      <td>10.701738</td>\n",
       "      <td>22394</td>\n",
       "      <td>1264.859814</td>\n",
       "      <td>24</td>\n",
       "      <td>80.884468</td>\n",
       "      <td>11.346719</td>\n",
       "      <td>50907.0</td>\n",
       "      <td>...</td>\n",
       "      <td>0</td>\n",
       "      <td>0</td>\n",
       "      <td>0</td>\n",
       "      <td>0</td>\n",
       "      <td>0</td>\n",
       "      <td>0</td>\n",
       "      <td>0</td>\n",
       "      <td>0</td>\n",
       "      <td>0</td>\n",
       "      <td>0</td>\n",
       "    </tr>\n",
       "    <tr>\n",
       "      <th>blount</th>\n",
       "      <td>31367.767836</td>\n",
       "      <td>14793.631836</td>\n",
       "      <td>885.531</td>\n",
       "      <td>8.469309</td>\n",
       "      <td>57826</td>\n",
       "      <td>3703.698806</td>\n",
       "      <td>24</td>\n",
       "      <td>82.825136</td>\n",
       "      <td>13.251620</td>\n",
       "      <td>55203.0</td>\n",
       "      <td>...</td>\n",
       "      <td>0</td>\n",
       "      <td>0</td>\n",
       "      <td>0</td>\n",
       "      <td>0</td>\n",
       "      <td>0</td>\n",
       "      <td>0</td>\n",
       "      <td>0</td>\n",
       "      <td>0</td>\n",
       "      <td>0</td>\n",
       "      <td>0</td>\n",
       "    </tr>\n",
       "  </tbody>\n",
       "</table>\n",
       "<p>5 rows × 73 columns</p>\n",
       "</div>"
      ],
      "text/plain": [
       "             total_exp  medical_care_exp  edu_training_exp  exp_per_vet  \\\n",
       "county                                                                    \n",
       "autauga   75198.383682      20057.504682          4577.286    13.185321   \n",
       "baldwin  177521.631934      50860.502934          7375.405     9.026920   \n",
       "barbour   19914.886299       5575.517299           605.641    10.771528   \n",
       "bibb      13536.198918       5398.731918           265.849    10.701738   \n",
       "blount    31367.767836      14793.631836           885.531     8.469309   \n",
       "\n",
       "         county_pop       vet_pop  state_va_fac  hs_grad_pct  clg_grad_pct  \\\n",
       "county                                                                       \n",
       "autauga       55869   5703.189465            24    88.713682     28.317486   \n",
       "baldwin      223234  19665.803702            24    90.471385     31.907330   \n",
       "barbour       24686   1848.845078            24    74.731697     11.614317   \n",
       "bibb          22394   1264.859814            24    80.884468     11.346719   \n",
       "blount        57826   3703.698806            24    82.825136     13.251620   \n",
       "\n",
       "         median_income  ...  state_sd  state_tn  state_tx  state_ut  state_va  \\\n",
       "county                  ...                                                     \n",
       "autauga        67565.0  ...         0         0         0         0         0   \n",
       "baldwin        71135.0  ...         0         0         0         0         0   \n",
       "barbour        38866.0  ...         0         0         0         0         0   \n",
       "bibb           50907.0  ...         0         0         0         0         0   \n",
       "blount         55203.0  ...         0         0         0         0         0   \n",
       "\n",
       "         state_vt  state_wa  state_wi  state_wv  state_wy  \n",
       "county                                                     \n",
       "autauga         0         0         0         0         0  \n",
       "baldwin         0         0         0         0         0  \n",
       "barbour         0         0         0         0         0  \n",
       "bibb            0         0         0         0         0  \n",
       "blount          0         0         0         0         0  \n",
       "\n",
       "[5 rows x 73 columns]"
      ]
     },
     "execution_count": 43,
     "metadata": {},
     "output_type": "execute_result"
    }
   ],
   "source": [
    "county_df.head()"
   ]
  },
  {
   "cell_type": "code",
   "execution_count": 44,
   "id": "304d8472-9423-4111-a1a9-71c84d09e4ec",
   "metadata": {},
   "outputs": [
    {
     "data": {
      "text/plain": [
       "Index(['total_exp', 'medical_care_exp', 'edu_training_exp', 'exp_per_vet',\n",
       "       'county_pop', 'vet_pop', 'state_va_fac', 'hs_grad_pct', 'clg_grad_pct',\n",
       "       'median_income', 'poverty_pct', 'unemployment_pct',\n",
       "       'severe_housing_problems_pct', 'smokers_pct', 'obesity_pct',\n",
       "       'inactive_pct', 'excess_alcohol_pct', 'diabetes_pct',\n",
       "       'food_insecure_pct', 'age_under18_pct', 'age_over65_pct', 'rural_pct',\n",
       "       'state_ak', 'state_al', 'state_ar', 'state_az', 'state_ca', 'state_co',\n",
       "       'state_ct', 'state_dc', 'state_de', 'state_fl', 'state_ga', 'state_hi',\n",
       "       'state_ia', 'state_id', 'state_il', 'state_in', 'state_ks', 'state_ky',\n",
       "       'state_la', 'state_ma', 'state_md', 'state_me', 'state_mi', 'state_mn',\n",
       "       'state_mo', 'state_ms', 'state_mt', 'state_nc', 'state_nd', 'state_ne',\n",
       "       'state_nh', 'state_nj', 'state_nm', 'state_nv', 'state_ny', 'state_oh',\n",
       "       'state_ok', 'state_or', 'state_pa', 'state_ri', 'state_sc', 'state_sd',\n",
       "       'state_tn', 'state_tx', 'state_ut', 'state_va', 'state_vt', 'state_wa',\n",
       "       'state_wi', 'state_wv', 'state_wy'],\n",
       "      dtype='object')"
      ]
     },
     "execution_count": 44,
     "metadata": {},
     "output_type": "execute_result"
    }
   ],
   "source": [
    "county_df.columns"
   ]
  },
  {
   "cell_type": "code",
   "execution_count": 45,
   "id": "d9e76f9d-07e1-40ce-a754-1b5b1928fff3",
   "metadata": {},
   "outputs": [],
   "source": [
    "# setting features into groups for ease of testing\n",
    "exp_cols = ['total_exp', 'medical_care_exp', 'edu_training_exp', 'exp_per_vet']\n",
    "pop_cols = ['county_pop', 'vet_pop', 'state_va_fac']\n",
    "edu_cols = ['hs_grad_pct', 'clg_grad_pct']\n",
    "econ_cols = ['median_income', 'poverty_pct', 'unemployment_pct', 'severe_housing_problems_pct']\n",
    "health_cols = ['smokers_pct', 'obesity_pct', 'inactive_pct', 'excess_alcohol_pct', 'diabetes_pct', 'food_insecure_pct']\n",
    "community_cols = ['age_under18_pct', 'age_over65_pct', 'rural_pct']\n",
    "state_cols = ['state_ak', 'state_al', 'state_ar', 'state_az', 'state_ca', 'state_co',\n",
    "       'state_ct', 'state_dc', 'state_de', 'state_fl', 'state_ga', 'state_hi',\n",
    "       'state_ia', 'state_id', 'state_il', 'state_in', 'state_ks', 'state_ky',\n",
    "       'state_la', 'state_ma', 'state_md', 'state_me', 'state_mi', 'state_mn',\n",
    "       'state_mo', 'state_ms', 'state_mt', 'state_nc', 'state_nd', 'state_ne',\n",
    "       'state_nh', 'state_nj', 'state_nm', 'state_nv', 'state_ny', 'state_oh',\n",
    "       'state_ok', 'state_or', 'state_pa', 'state_ri', 'state_sc', 'state_sd',\n",
    "       'state_tn', 'state_tx', 'state_ut', 'state_va', 'state_vt', 'state_wa',\n",
    "       'state_wi', 'state_wv', 'state_wy']\n",
    "# 'county', 'state', 'total_exp', 'medical_care_exp', 'edu_training_exp', 'exp_per_vet',    #expenditures\n",
    "# 'age_under18_pct', 'age_over65_pct', 'rural_pct'     #age, community\n",
    "non_exp_columns = pop_cols+edu_cols+econ_cols+health_cols+community_cols+state_cols"
   ]
  },
  {
   "cell_type": "code",
   "execution_count": 46,
   "id": "58b07ddd-fca1-4394-bfa7-6e85d08a0b06",
   "metadata": {},
   "outputs": [],
   "source": [
    "def metrics_plots(model, X_train, y_train, X_test, y_test):\n",
    "    \n",
    "    y_train_preds = model.predict(X_train)\n",
    "    y_test_preds = model.predict(X_test)\n",
    "    \n",
    "    train_r2 = r2_score(y_train, y_train_preds)\n",
    "    train_rmse = np.sqrt(mean_squared_error(y_train, y_train_preds))\n",
    "    train_mae = mean_absolute_error(y_train, y_train_preds)   \n",
    "    \n",
    "    test_r2 = r2_score(y_test, y_test_preds)\n",
    "    test_rmse = np.sqrt(mean_squared_error(y_test, y_test_preds))\n",
    "    test_mae = mean_absolute_error(y_test, y_test_preds)\n",
    "    print(f'Train Scores \\nR2 score = {train_r2} \\nRoot Mean Squared Error = {train_rmse} \\nMean Absolute Error = {train_mae}')\n",
    "    print(f'Test Scores \\nR2 score = {test_r2} \\nRoot Mean Squared Error = {test_rmse} \\nMean Absolute Error = {test_mae}')\n",
    "    \n",
    "    plt.scatter(y_train_preds, y_train, label='Training data') \n",
    "    plt.scatter(y_test_preds, y_test, label='Validation data')\n",
    "    plt.title('Total Expenditure Prediction by County')\n",
    "    plt.xlabel('Predicted values')\n",
    "    plt.ylabel('Actual values')\n",
    "    plt.legend(loc='upper left')\n",
    "    plt.plot([y_train.min(), y_train.max()], [y_train.min(), y_train.max()])"
   ]
  },
  {
   "cell_type": "code",
   "execution_count": 53,
   "id": "94384e47-87a5-4558-a0f5-51e6315e7649",
   "metadata": {},
   "outputs": [],
   "source": [
    "# setting X and y\n",
    "X = county_df[non_exp_columns]\n",
    "y = county_df['total_exp']\n",
    "X_train, X_test, y_train, y_test = train_test_split(X, y, random_state=14)\n",
    "\n",
    "# scaled X\n",
    "sc = StandardScaler()\n",
    "sc.fit(X_train)\n",
    "X_train_sc = pd.DataFrame(sc.transform(X_train), columns=sc.get_feature_names_out())\n",
    "X_test_sc = pd.DataFrame(sc.transform(X_test), columns=sc.get_feature_names_out())"
   ]
  },
  {
   "cell_type": "code",
   "execution_count": null,
   "id": "121fae55-aafe-4bac-ae62-5da67db549c5",
   "metadata": {},
   "outputs": [],
   "source": []
  },
  {
   "cell_type": "markdown",
   "id": "b26b8984-f19f-4eb0-8cc1-a8ea381309af",
   "metadata": {},
   "source": [
    "## Predicting spending per veteran"
   ]
  },
  {
   "cell_type": "markdown",
   "id": "6a7d385b-0739-4dd1-b954-6a75e5e726c4",
   "metadata": {},
   "source": [
    "### Using all features"
   ]
  },
  {
   "cell_type": "code",
   "execution_count": 165,
   "id": "5a8a9fa2-06b5-4dfc-8699-74db6ec7ec96",
   "metadata": {},
   "outputs": [],
   "source": [
    "# setting X and y\n",
    "X = county_df[non_exp_columns]\n",
    "y = county_df['exp_per_vet']\n",
    "X_train, X_test, y_train, y_test = train_test_split(X, y, random_state=14)\n",
    "\n",
    "# scaled X\n",
    "sc = StandardScaler()\n",
    "sc.fit(X_train)\n",
    "X_train_sc = pd.DataFrame(sc.transform(X_train), columns=sc.get_feature_names_out())\n",
    "X_test_sc = pd.DataFrame(sc.transform(X_test), columns=sc.get_feature_names_out())"
   ]
  },
  {
   "cell_type": "code",
   "execution_count": 166,
   "id": "a2ccd275-9e52-455a-a4aa-9beb79bab558",
   "metadata": {
    "tags": []
   },
   "outputs": [
    {
     "name": "stdout",
     "output_type": "stream",
     "text": [
      "Train Scores \n",
      "R2 score = 0.13258662197302895 \n",
      "Root Mean Squared Error = 7.888360304622334 \n",
      "Mean Absolute Error = 2.5932674223813326\n",
      "Test Scores \n",
      "R2 score = 0.11256941099645812 \n",
      "Root Mean Squared Error = 4.052796530060891 \n",
      "Mean Absolute Error = 2.5658530754020377\n"
     ]
    },
    {
     "data": {
      "image/png": "[encoded data removed]",
      "text/plain": [
       "<Figure size 432x288 with 1 Axes>"
      ]
     },
     "metadata": {
      "needs_background": "light"
     },
     "output_type": "display_data"
    }
   ],
   "source": [
    "lasso = Lasso()\n",
    "params = {\n",
    "    'alpha': [ 0, .00001, .0001, .001, .01, .1, .25, .5, .75, .9, 1, 5, 10, 100],\n",
    "    'max_iter': [10000]\n",
    "}\n",
    "gs = GridSearchCV(lasso, param_grid=params, n_jobs=-1)\n",
    "gs.fit(X_train_sc, y_train)\n",
    "metrics_plots(gs, X_train_sc, y_train, X_test_sc, y_test)"
   ]
  },
  {
   "cell_type": "code",
   "execution_count": 167,
   "id": "a9c44770-50fd-4a93-a8ad-c56dc6b4b90e",
   "metadata": {},
   "outputs": [
    {
     "data": {
      "text/html": [
       "<div>\n",
       "<style scoped>\n",
       "    .dataframe tbody tr th:only-of-type {\n",
       "        vertical-align: middle;\n",
       "    }\n",
       "\n",
       "    .dataframe tbody tr th {\n",
       "        vertical-align: top;\n",
       "    }\n",
       "\n",
       "    .dataframe thead th {\n",
       "        text-align: right;\n",
       "    }\n",
       "</style>\n",
       "<table border=\"1\" class=\"dataframe\">\n",
       "  <thead>\n",
       "    <tr style=\"text-align: right;\">\n",
       "      <th></th>\n",
       "      <th>features</th>\n",
       "      <th>coefs</th>\n",
       "    </tr>\n",
       "  </thead>\n",
       "  <tbody>\n",
       "    <tr>\n",
       "      <th>25</th>\n",
       "      <td>state_dc</td>\n",
       "      <td>2.127145</td>\n",
       "    </tr>\n",
       "    <tr>\n",
       "      <th>6</th>\n",
       "      <td>poverty_pct</td>\n",
       "      <td>1.122652</td>\n",
       "    </tr>\n",
       "    <tr>\n",
       "      <th>47</th>\n",
       "      <td>state_ne</td>\n",
       "      <td>0.866816</td>\n",
       "    </tr>\n",
       "    <tr>\n",
       "      <th>13</th>\n",
       "      <td>diabetes_pct</td>\n",
       "      <td>0.388517</td>\n",
       "    </tr>\n",
       "    <tr>\n",
       "      <th>1</th>\n",
       "      <td>vet_pop</td>\n",
       "      <td>0.368206</td>\n",
       "    </tr>\n",
       "  </tbody>\n",
       "</table>\n",
       "</div>"
      ],
      "text/plain": [
       "        features     coefs\n",
       "25      state_dc  2.127145\n",
       "6    poverty_pct  1.122652\n",
       "47      state_ne  0.866816\n",
       "13  diabetes_pct  0.388517\n",
       "1        vet_pop  0.368206"
      ]
     },
     "execution_count": 167,
     "metadata": {},
     "output_type": "execute_result"
    }
   ],
   "source": [
    "coefs = pd.DataFrame()\n",
    "coefs['features'] = X.columns\n",
    "coefs['coefs'] = gs.best_estimator_.coef_\n",
    "coefs.sort_values(by='coefs', ascending=False).head()"
   ]
  },
  {
   "cell_type": "markdown",
   "id": "0959847e-7194-45a8-a9cf-62d8dba94edc",
   "metadata": {},
   "source": [
    "#### I tried multiple different sets of features, but was not able to fit a model with a high enough R2 score to indicate a good fit for expenditure per veteran.  "
   ]
  },
  {
   "cell_type": "code",
   "execution_count": null,
   "id": "83d4e371-a94c-4714-b603-b3adeebbb5fb",
   "metadata": {},
   "outputs": [],
   "source": []
  },
  {
   "cell_type": "code",
   "execution_count": null,
   "id": "1d8e4418-960f-41d4-91ce-80d77e0083c4",
   "metadata": {},
   "outputs": [],
   "source": []
  },
  {
   "cell_type": "code",
   "execution_count": null,
   "id": "71474f6a-d9de-492e-9aec-1fc4bf128306",
   "metadata": {},
   "outputs": [],
   "source": []
  },
  {
   "cell_type": "markdown",
   "id": "b5c40a4f-f35e-4768-a984-2120c47d067a",
   "metadata": {},
   "source": [
    "## Predicting Total Health Expenditures"
   ]
  },
  {
   "cell_type": "markdown",
   "id": "43dace5f-4b07-4116-a03c-49baa1b0f1a2",
   "metadata": {},
   "source": [
    "### Using all features"
   ]
  },
  {
   "cell_type": "code",
   "execution_count": 91,
   "id": "d778da90-ac83-4950-8ecb-d3f9d77519d0",
   "metadata": {},
   "outputs": [],
   "source": [
    "# setting X and y\n",
    "X = county_df[non_exp_columns]\n",
    "y = county_df['medical_care_exp']\n",
    "X_train, X_test, y_train, y_test = train_test_split(X, y, random_state=14)\n",
    "\n",
    "# scaled X\n",
    "sc = StandardScaler()\n",
    "sc.fit(X_train)\n",
    "X_train_sc = pd.DataFrame(sc.transform(X_train), columns=sc.get_feature_names_out())\n",
    "X_test_sc = pd.DataFrame(sc.transform(X_test), columns=sc.get_feature_names_out())"
   ]
  },
  {
   "cell_type": "code",
   "execution_count": 92,
   "id": "cbea9e0c-14e4-495f-8dbd-036b3d0aa77b",
   "metadata": {
    "tags": []
   },
   "outputs": [
    {
     "name": "stdout",
     "output_type": "stream",
     "text": [
      "Train Scores \n",
      "R2 score = 0.922285579543162 \n",
      "Root Mean Squared Error = 20254.86961676481 \n",
      "Mean Absolute Error = 8899.837715761212\n",
      "Test Scores \n",
      "R2 score = 0.87439622433403 \n",
      "Root Mean Squared Error = 23489.46540732244 \n",
      "Mean Absolute Error = 10115.255540728167\n"
     ]
    },
    {
     "data": {
      "image/png": "[encoded data removed]",
      "text/plain": [
       "<Figure size 432x288 with 1 Axes>"
      ]
     },
     "metadata": {
      "needs_background": "light"
     },
     "output_type": "display_data"
    }
   ],
   "source": [
    "lasso = Lasso()\n",
    "params = {\n",
    "    'alpha': [ 0, .00001, .0001, .001, .01, .1, .25, .5, .75, .9, 1, 5, 10, 100],\n",
    "    'max_iter': [10000]\n",
    "}\n",
    "gs = GridSearchCV(lasso, param_grid=params, n_jobs=-1)\n",
    "gs.fit(X_train_sc, y_train)\n",
    "metrics_plots(gs, X_train_sc, y_train, X_test_sc, y_test)"
   ]
  },
  {
   "cell_type": "code",
   "execution_count": 126,
   "id": "b9eeed96-6b0e-4896-b958-c5454b42b88a",
   "metadata": {},
   "outputs": [
    {
     "data": {
      "text/html": [
       "<div>\n",
       "<style scoped>\n",
       "    .dataframe tbody tr th:only-of-type {\n",
       "        vertical-align: middle;\n",
       "    }\n",
       "\n",
       "    .dataframe tbody tr th {\n",
       "        vertical-align: top;\n",
       "    }\n",
       "\n",
       "    .dataframe thead th {\n",
       "        text-align: right;\n",
       "    }\n",
       "</style>\n",
       "<table border=\"1\" class=\"dataframe\">\n",
       "  <thead>\n",
       "    <tr style=\"text-align: right;\">\n",
       "      <th></th>\n",
       "      <th>features</th>\n",
       "      <th>coefs</th>\n",
       "    </tr>\n",
       "  </thead>\n",
       "  <tbody>\n",
       "    <tr>\n",
       "      <th>1</th>\n",
       "      <td>vet_pop</td>\n",
       "      <td>52086.043426</td>\n",
       "    </tr>\n",
       "    <tr>\n",
       "      <th>0</th>\n",
       "      <td>county_pop</td>\n",
       "      <td>19161.777702</td>\n",
       "    </tr>\n",
       "    <tr>\n",
       "      <th>8</th>\n",
       "      <td>food_insecure_pct</td>\n",
       "      <td>4624.681108</td>\n",
       "    </tr>\n",
       "    <tr>\n",
       "      <th>6</th>\n",
       "      <td>excess_alcohol_pct</td>\n",
       "      <td>3488.469864</td>\n",
       "    </tr>\n",
       "    <tr>\n",
       "      <th>3</th>\n",
       "      <td>smokers_pct</td>\n",
       "      <td>546.022968</td>\n",
       "    </tr>\n",
       "  </tbody>\n",
       "</table>\n",
       "</div>"
      ],
      "text/plain": [
       "             features         coefs\n",
       "1             vet_pop  52086.043426\n",
       "0          county_pop  19161.777702\n",
       "8   food_insecure_pct   4624.681108\n",
       "6  excess_alcohol_pct   3488.469864\n",
       "3         smokers_pct    546.022968"
      ]
     },
     "execution_count": 126,
     "metadata": {},
     "output_type": "execute_result"
    }
   ],
   "source": [
    "coefs = pd.DataFrame()\n",
    "coefs['features'] = X.columns\n",
    "coefs['coefs'] = gs.best_estimator_.coef_\n",
    "coefs.sort_values(by='coefs', ascending=False).head()"
   ]
  },
  {
   "cell_type": "code",
   "execution_count": null,
   "id": "60568555-c320-4f5e-bd15-fb07e261b94e",
   "metadata": {},
   "outputs": [],
   "source": []
  },
  {
   "cell_type": "markdown",
   "id": "41a81a5c-6958-41c3-bedd-900d10df2be4",
   "metadata": {},
   "source": [
    "### Using only health features"
   ]
  },
  {
   "cell_type": "code",
   "execution_count": 161,
   "id": "02bf4993-e7d2-4efe-be88-5ec3b1e81373",
   "metadata": {},
   "outputs": [],
   "source": [
    "# setting X and y\n",
    "X = county_df[pop_cols+health_cols]\n",
    "y = county_df['medical_care_exp']\n",
    "X_train, X_test, y_train, y_test = train_test_split(X, y, random_state=14)\n",
    "\n",
    "# scaled X\n",
    "sc = StandardScaler()\n",
    "sc.fit(X_train)\n",
    "X_train_sc = pd.DataFrame(sc.transform(X_train), columns=sc.get_feature_names_out())\n",
    "X_test_sc = pd.DataFrame(sc.transform(X_test), columns=sc.get_feature_names_out())"
   ]
  },
  {
   "cell_type": "code",
   "execution_count": 162,
   "id": "1766b52f-3700-4a8c-8adb-72e9855eab6c",
   "metadata": {
    "tags": []
   },
   "outputs": [
    {
     "name": "stdout",
     "output_type": "stream",
     "text": [
      "Train Scores \n",
      "R2 score = 0.9119513255138464 \n",
      "Root Mean Squared Error = 21559.568115643484 \n",
      "Mean Absolute Error = 8487.999021560498\n",
      "Test Scores \n",
      "R2 score = 0.8768028944602073 \n",
      "Root Mean Squared Error = 23263.33837793002 \n",
      "Mean Absolute Error = 9561.83941490009\n"
     ]
    },
    {
     "data": {
      "image/png": "[encoded data removed]",
      "text/plain": [
       "<Figure size 432x288 with 1 Axes>"
      ]
     },
     "metadata": {
      "needs_background": "light"
     },
     "output_type": "display_data"
    }
   ],
   "source": [
    "lasso = Lasso()\n",
    "params = {\n",
    "    'alpha': [ 500],\n",
    "    'max_iter': [10000]\n",
    "}\n",
    "gs = GridSearchCV(lasso, param_grid=params, n_jobs=-1)\n",
    "gs.fit(X_train_sc, y_train)\n",
    "metrics_plots(gs, X_train_sc, y_train, X_test_sc, y_test)"
   ]
  },
  {
   "cell_type": "code",
   "execution_count": 163,
   "id": "dbf8d971-682e-4721-8c1e-db08113c9c02",
   "metadata": {},
   "outputs": [
    {
     "data": {
      "text/html": [
       "<div>\n",
       "<style scoped>\n",
       "    .dataframe tbody tr th:only-of-type {\n",
       "        vertical-align: middle;\n",
       "    }\n",
       "\n",
       "    .dataframe tbody tr th {\n",
       "        vertical-align: top;\n",
       "    }\n",
       "\n",
       "    .dataframe thead th {\n",
       "        text-align: right;\n",
       "    }\n",
       "</style>\n",
       "<table border=\"1\" class=\"dataframe\">\n",
       "  <thead>\n",
       "    <tr style=\"text-align: right;\">\n",
       "      <th></th>\n",
       "      <th>features</th>\n",
       "      <th>coefs</th>\n",
       "    </tr>\n",
       "  </thead>\n",
       "  <tbody>\n",
       "    <tr>\n",
       "      <th>1</th>\n",
       "      <td>vet_pop</td>\n",
       "      <td>51614.921029</td>\n",
       "    </tr>\n",
       "    <tr>\n",
       "      <th>0</th>\n",
       "      <td>county_pop</td>\n",
       "      <td>18937.338354</td>\n",
       "    </tr>\n",
       "    <tr>\n",
       "      <th>8</th>\n",
       "      <td>food_insecure_pct</td>\n",
       "      <td>3616.695713</td>\n",
       "    </tr>\n",
       "    <tr>\n",
       "      <th>6</th>\n",
       "      <td>excess_alcohol_pct</td>\n",
       "      <td>2163.817930</td>\n",
       "    </tr>\n",
       "    <tr>\n",
       "      <th>3</th>\n",
       "      <td>smokers_pct</td>\n",
       "      <td>250.015363</td>\n",
       "    </tr>\n",
       "    <tr>\n",
       "      <th>4</th>\n",
       "      <td>obesity_pct</td>\n",
       "      <td>97.668079</td>\n",
       "    </tr>\n",
       "    <tr>\n",
       "      <th>2</th>\n",
       "      <td>state_va_fac</td>\n",
       "      <td>0.000000</td>\n",
       "    </tr>\n",
       "    <tr>\n",
       "      <th>5</th>\n",
       "      <td>inactive_pct</td>\n",
       "      <td>0.000000</td>\n",
       "    </tr>\n",
       "    <tr>\n",
       "      <th>7</th>\n",
       "      <td>diabetes_pct</td>\n",
       "      <td>0.000000</td>\n",
       "    </tr>\n",
       "  </tbody>\n",
       "</table>\n",
       "</div>"
      ],
      "text/plain": [
       "             features         coefs\n",
       "1             vet_pop  51614.921029\n",
       "0          county_pop  18937.338354\n",
       "8   food_insecure_pct   3616.695713\n",
       "6  excess_alcohol_pct   2163.817930\n",
       "3         smokers_pct    250.015363\n",
       "4         obesity_pct     97.668079\n",
       "2        state_va_fac      0.000000\n",
       "5        inactive_pct      0.000000\n",
       "7        diabetes_pct      0.000000"
      ]
     },
     "execution_count": 163,
     "metadata": {},
     "output_type": "execute_result"
    }
   ],
   "source": [
    "coefs = pd.DataFrame()\n",
    "coefs['features'] = X.columns\n",
    "coefs['coefs'] = gs.best_estimator_.coef_\n",
    "coefs.sort_values(by='coefs', ascending=False).head(10)"
   ]
  },
  {
   "cell_type": "code",
   "execution_count": 164,
   "id": "f6c6566f-b3eb-46cc-af14-610e9272b793",
   "metadata": {},
   "outputs": [
    {
     "data": {
      "image/png": "[encoded data removed]",
      "text/plain": [
       "<Figure size 432x288 with 1 Axes>"
      ]
     },
     "metadata": {
      "needs_background": "light"
     },
     "output_type": "display_data"
    }
   ],
   "source": [
    "coefs[coefs['features'].isin(health_cols)].sort_values(by='coefs', ascending=False).plot.bar(x='features', y='coefs', legend=None)\n",
    "plt.xlabel('Features')\n",
    "plt.ylabel('Coefficient')\n",
    "plt.title('Feature Importance for Health Factors'); "
   ]
  },
  {
   "cell_type": "code",
   "execution_count": null,
   "id": "68bc9a43-9174-4368-83d4-ca5abe9237a5",
   "metadata": {},
   "outputs": [],
   "source": []
  },
  {
   "cell_type": "code",
   "execution_count": null,
   "id": "50651bc0-808d-4b5f-91bc-59ec49dec33a",
   "metadata": {},
   "outputs": [],
   "source": []
  },
  {
   "cell_type": "markdown",
   "id": "f6ff48ab-22a1-465d-b974-9ad64c4bff5e",
   "metadata": {},
   "source": [
    "## Predicting Total Education/Training Expenditures"
   ]
  },
  {
   "cell_type": "markdown",
   "id": "583efda4-0524-4c60-b6f0-bba3964c4a8b",
   "metadata": {},
   "source": [
    "### Using all features"
   ]
  },
  {
   "cell_type": "code",
   "execution_count": 211,
   "id": "e1dc93b6-eff5-423c-b22f-3c0682116b92",
   "metadata": {
    "tags": []
   },
   "outputs": [],
   "source": [
    "# setting X and y\n",
    "X = county_df[non_exp_columns]\n",
    "y = county_df['edu_training_exp']\n",
    "X_train, X_test, y_train, y_test = train_test_split(X, y, random_state=14)\n",
    "\n",
    "# scaled X\n",
    "sc = StandardScaler()\n",
    "sc.fit(X_train)\n",
    "X_train_sc = pd.DataFrame(sc.transform(X_train), columns=sc.get_feature_names_out())\n",
    "X_test_sc = pd.DataFrame(sc.transform(X_test), columns=sc.get_feature_names_out())"
   ]
  },
  {
   "cell_type": "code",
   "execution_count": 212,
   "id": "c91e564e-8033-4a74-b2f7-9a110eab856d",
   "metadata": {
    "tags": []
   },
   "outputs": [
    {
     "name": "stdout",
     "output_type": "stream",
     "text": [
      "Train Scores \n",
      "R2 score = 0.8196030999118022 \n",
      "Root Mean Squared Error = 6338.000611018131 \n",
      "Mean Absolute Error = 2392.676960016527\n",
      "Test Scores \n",
      "R2 score = 0.8191659581050881 \n",
      "Root Mean Squared Error = 5590.705297619987 \n",
      "Mean Absolute Error = 2406.7078554861673\n"
     ]
    },
    {
     "data": {
      "image/png": "[encoded data removed]",
      "text/plain": [
       "<Figure size 432x288 with 1 Axes>"
      ]
     },
     "metadata": {
      "needs_background": "light"
     },
     "output_type": "display_data"
    }
   ],
   "source": [
    "lasso = Lasso()\n",
    "params = {\n",
    "    'alpha': [ 0, .00001, .0001, .001, .01, .1, .25, .5, .75, .9, 1, 5, 10, 100],\n",
    "    'max_iter': [10000]\n",
    "}\n",
    "gs = GridSearchCV(lasso, param_grid=params, n_jobs=-1)\n",
    "gs.fit(X_train_sc, y_train)\n",
    "metrics_plots(gs, X_train_sc, y_train, X_test_sc, y_test)"
   ]
  },
  {
   "cell_type": "code",
   "execution_count": 213,
   "id": "9b4db55c-715f-4746-a12a-0c3f8f280dad",
   "metadata": {},
   "outputs": [
    {
     "data": {
      "text/html": [
       "<div>\n",
       "<style scoped>\n",
       "    .dataframe tbody tr th:only-of-type {\n",
       "        vertical-align: middle;\n",
       "    }\n",
       "\n",
       "    .dataframe tbody tr th {\n",
       "        vertical-align: top;\n",
       "    }\n",
       "\n",
       "    .dataframe thead th {\n",
       "        text-align: right;\n",
       "    }\n",
       "</style>\n",
       "<table border=\"1\" class=\"dataframe\">\n",
       "  <thead>\n",
       "    <tr style=\"text-align: right;\">\n",
       "      <th></th>\n",
       "      <th>features</th>\n",
       "      <th>coefs</th>\n",
       "    </tr>\n",
       "  </thead>\n",
       "  <tbody>\n",
       "    <tr>\n",
       "      <th>1</th>\n",
       "      <td>vet_pop</td>\n",
       "      <td>17426.630475</td>\n",
       "    </tr>\n",
       "    <tr>\n",
       "      <th>17</th>\n",
       "      <td>rural_pct</td>\n",
       "      <td>1801.027177</td>\n",
       "    </tr>\n",
       "    <tr>\n",
       "      <th>22</th>\n",
       "      <td>state_ca</td>\n",
       "      <td>826.767238</td>\n",
       "    </tr>\n",
       "    <tr>\n",
       "      <th>63</th>\n",
       "      <td>state_va</td>\n",
       "      <td>500.085702</td>\n",
       "    </tr>\n",
       "    <tr>\n",
       "      <th>29</th>\n",
       "      <td>state_hi</td>\n",
       "      <td>448.142400</td>\n",
       "    </tr>\n",
       "    <tr>\n",
       "      <th>61</th>\n",
       "      <td>state_tx</td>\n",
       "      <td>316.960666</td>\n",
       "    </tr>\n",
       "    <tr>\n",
       "      <th>23</th>\n",
       "      <td>state_co</td>\n",
       "      <td>234.208992</td>\n",
       "    </tr>\n",
       "    <tr>\n",
       "      <th>25</th>\n",
       "      <td>state_dc</td>\n",
       "      <td>73.472867</td>\n",
       "    </tr>\n",
       "    <tr>\n",
       "      <th>30</th>\n",
       "      <td>state_ia</td>\n",
       "      <td>72.046343</td>\n",
       "    </tr>\n",
       "    <tr>\n",
       "      <th>47</th>\n",
       "      <td>state_ne</td>\n",
       "      <td>60.264460</td>\n",
       "    </tr>\n",
       "    <tr>\n",
       "      <th>44</th>\n",
       "      <td>state_mt</td>\n",
       "      <td>44.331272</td>\n",
       "    </tr>\n",
       "    <tr>\n",
       "      <th>68</th>\n",
       "      <td>state_wy</td>\n",
       "      <td>40.604686</td>\n",
       "    </tr>\n",
       "    <tr>\n",
       "      <th>34</th>\n",
       "      <td>state_ks</td>\n",
       "      <td>36.700609</td>\n",
       "    </tr>\n",
       "    <tr>\n",
       "      <th>13</th>\n",
       "      <td>diabetes_pct</td>\n",
       "      <td>-0.000000</td>\n",
       "    </tr>\n",
       "    <tr>\n",
       "      <th>54</th>\n",
       "      <td>state_ok</td>\n",
       "      <td>-0.000000</td>\n",
       "    </tr>\n",
       "    <tr>\n",
       "      <th>38</th>\n",
       "      <td>state_md</td>\n",
       "      <td>0.000000</td>\n",
       "    </tr>\n",
       "    <tr>\n",
       "      <th>14</th>\n",
       "      <td>food_insecure_pct</td>\n",
       "      <td>-0.000000</td>\n",
       "    </tr>\n",
       "    <tr>\n",
       "      <th>43</th>\n",
       "      <td>state_ms</td>\n",
       "      <td>-0.000000</td>\n",
       "    </tr>\n",
       "    <tr>\n",
       "      <th>5</th>\n",
       "      <td>median_income</td>\n",
       "      <td>0.000000</td>\n",
       "    </tr>\n",
       "    <tr>\n",
       "      <th>45</th>\n",
       "      <td>state_nc</td>\n",
       "      <td>0.000000</td>\n",
       "    </tr>\n",
       "  </tbody>\n",
       "</table>\n",
       "</div>"
      ],
      "text/plain": [
       "             features         coefs\n",
       "1             vet_pop  17426.630475\n",
       "17          rural_pct   1801.027177\n",
       "22           state_ca    826.767238\n",
       "63           state_va    500.085702\n",
       "29           state_hi    448.142400\n",
       "61           state_tx    316.960666\n",
       "23           state_co    234.208992\n",
       "25           state_dc     73.472867\n",
       "30           state_ia     72.046343\n",
       "47           state_ne     60.264460\n",
       "44           state_mt     44.331272\n",
       "68           state_wy     40.604686\n",
       "34           state_ks     36.700609\n",
       "13       diabetes_pct     -0.000000\n",
       "54           state_ok     -0.000000\n",
       "38           state_md      0.000000\n",
       "14  food_insecure_pct     -0.000000\n",
       "43           state_ms     -0.000000\n",
       "5       median_income      0.000000\n",
       "45           state_nc      0.000000"
      ]
     },
     "execution_count": 213,
     "metadata": {},
     "output_type": "execute_result"
    }
   ],
   "source": [
    "coefs = pd.DataFrame()\n",
    "coefs['features'] = X.columns\n",
    "coefs['coefs'] = gs.best_estimator_.coef_\n",
    "coefs.sort_values(by='coefs', ascending=False).head(20)"
   ]
  },
  {
   "cell_type": "code",
   "execution_count": null,
   "id": "50be9925-4516-4ab8-b50d-f3b8aa2db589",
   "metadata": {},
   "outputs": [],
   "source": []
  },
  {
   "cell_type": "code",
   "execution_count": null,
   "id": "fb7aa6fe-e1d9-4a70-896e-64d6918a0dbb",
   "metadata": {},
   "outputs": [],
   "source": []
  },
  {
   "cell_type": "code",
   "execution_count": null,
   "id": "0eaa08e7-1bfa-4d74-9ca3-832536d8a839",
   "metadata": {},
   "outputs": [],
   "source": []
  },
  {
   "cell_type": "markdown",
   "id": "c659bb31-dc56-4764-908e-87b02e913c63",
   "metadata": {},
   "source": [
    "### Using all features except states"
   ]
  },
  {
   "cell_type": "code",
   "execution_count": 214,
   "id": "6919ceab-72e0-421a-8473-86a89962d6ee",
   "metadata": {
    "tags": []
   },
   "outputs": [],
   "source": [
    "# setting X and y\n",
    "X = county_df[pop_cols+edu_cols+econ_cols+health_cols+community_cols]\n",
    "y = county_df['edu_training_exp']\n",
    "X_train, X_test, y_train, y_test = train_test_split(X, y, random_state=14)\n",
    "\n",
    "# scaled X\n",
    "sc = StandardScaler()\n",
    "sc.fit(X_train)\n",
    "X_train_sc = pd.DataFrame(sc.transform(X_train), columns=sc.get_feature_names_out())\n",
    "X_test_sc = pd.DataFrame(sc.transform(X_test), columns=sc.get_feature_names_out())"
   ]
  },
  {
   "cell_type": "code",
   "execution_count": 215,
   "id": "ccae61a1-a6f8-45b9-8e9e-35bfc49704af",
   "metadata": {
    "tags": []
   },
   "outputs": [
    {
     "name": "stdout",
     "output_type": "stream",
     "text": [
      "Train Scores \n",
      "R2 score = 0.8092453382138042 \n",
      "Root Mean Squared Error = 6517.414187494382 \n",
      "Mean Absolute Error = 2534.431114701938\n",
      "Test Scores \n",
      "R2 score = 0.8094755141385372 \n",
      "Root Mean Squared Error = 5738.546489839674 \n",
      "Mean Absolute Error = 2523.9305516035324\n"
     ]
    },
    {
     "data": {
      "image/png": "[encoded data removed]",
      "text/plain": [
       "<Figure size 432x288 with 1 Axes>"
      ]
     },
     "metadata": {
      "needs_background": "light"
     },
     "output_type": "display_data"
    }
   ],
   "source": [
    "lasso = Lasso()\n",
    "params = {\n",
    "    'alpha': [ 0, .00001, .0001, .001, .01, .1, .25, .5, .75, .9, 1, 5, 10],\n",
    "    'max_iter': [10000]\n",
    "}\n",
    "gs = GridSearchCV(lasso, param_grid=params, n_jobs=-1)\n",
    "gs.fit(X_train_sc, y_train)\n",
    "metrics_plots(gs, X_train_sc, y_train, X_test_sc, y_test)"
   ]
  },
  {
   "cell_type": "code",
   "execution_count": 216,
   "id": "3014fefe-b751-4f9f-9494-43f365ac6506",
   "metadata": {},
   "outputs": [
    {
     "data": {
      "text/plain": [
       "{'alpha': 10, 'max_iter': 10000}"
      ]
     },
     "execution_count": 216,
     "metadata": {},
     "output_type": "execute_result"
    }
   ],
   "source": [
    "gs.best_params_"
   ]
  },
  {
   "cell_type": "code",
   "execution_count": 217,
   "id": "485aa0c3-b67d-4b0b-a5bc-db598f5936e4",
   "metadata": {},
   "outputs": [
    {
     "data": {
      "text/html": [
       "<div>\n",
       "<style scoped>\n",
       "    .dataframe tbody tr th:only-of-type {\n",
       "        vertical-align: middle;\n",
       "    }\n",
       "\n",
       "    .dataframe tbody tr th {\n",
       "        vertical-align: top;\n",
       "    }\n",
       "\n",
       "    .dataframe thead th {\n",
       "        text-align: right;\n",
       "    }\n",
       "</style>\n",
       "<table border=\"1\" class=\"dataframe\">\n",
       "  <thead>\n",
       "    <tr style=\"text-align: right;\">\n",
       "      <th></th>\n",
       "      <th>features</th>\n",
       "      <th>coefs</th>\n",
       "    </tr>\n",
       "  </thead>\n",
       "  <tbody>\n",
       "    <tr>\n",
       "      <th>1</th>\n",
       "      <td>vet_pop</td>\n",
       "      <td>18264.745880</td>\n",
       "    </tr>\n",
       "    <tr>\n",
       "      <th>17</th>\n",
       "      <td>rural_pct</td>\n",
       "      <td>2335.722617</td>\n",
       "    </tr>\n",
       "    <tr>\n",
       "      <th>6</th>\n",
       "      <td>poverty_pct</td>\n",
       "      <td>578.284106</td>\n",
       "    </tr>\n",
       "    <tr>\n",
       "      <th>5</th>\n",
       "      <td>median_income</td>\n",
       "      <td>459.057569</td>\n",
       "    </tr>\n",
       "    <tr>\n",
       "      <th>8</th>\n",
       "      <td>severe_housing_problems_pct</td>\n",
       "      <td>356.316252</td>\n",
       "    </tr>\n",
       "    <tr>\n",
       "      <th>15</th>\n",
       "      <td>age_under18_pct</td>\n",
       "      <td>31.757185</td>\n",
       "    </tr>\n",
       "    <tr>\n",
       "      <th>2</th>\n",
       "      <td>state_va_fac</td>\n",
       "      <td>-1.694344</td>\n",
       "    </tr>\n",
       "    <tr>\n",
       "      <th>3</th>\n",
       "      <td>hs_grad_pct</td>\n",
       "      <td>-37.518915</td>\n",
       "    </tr>\n",
       "    <tr>\n",
       "      <th>13</th>\n",
       "      <td>diabetes_pct</td>\n",
       "      <td>-44.331916</td>\n",
       "    </tr>\n",
       "    <tr>\n",
       "      <th>11</th>\n",
       "      <td>inactive_pct</td>\n",
       "      <td>-81.016413</td>\n",
       "    </tr>\n",
       "  </tbody>\n",
       "</table>\n",
       "</div>"
      ],
      "text/plain": [
       "                       features         coefs\n",
       "1                       vet_pop  18264.745880\n",
       "17                    rural_pct   2335.722617\n",
       "6                   poverty_pct    578.284106\n",
       "5                 median_income    459.057569\n",
       "8   severe_housing_problems_pct    356.316252\n",
       "15              age_under18_pct     31.757185\n",
       "2                  state_va_fac     -1.694344\n",
       "3                   hs_grad_pct    -37.518915\n",
       "13                 diabetes_pct    -44.331916\n",
       "11                 inactive_pct    -81.016413"
      ]
     },
     "execution_count": 217,
     "metadata": {},
     "output_type": "execute_result"
    }
   ],
   "source": [
    "coefs = pd.DataFrame()\n",
    "coefs['features'] = X.columns\n",
    "coefs['coefs'] = gs.best_estimator_.coef_\n",
    "coefs.sort_values(by='coefs', ascending=False).head(10)"
   ]
  },
  {
   "cell_type": "code",
   "execution_count": null,
   "id": "2ad3ed0e-3952-46b4-b06c-c68b0a37f00e",
   "metadata": {},
   "outputs": [],
   "source": []
  },
  {
   "cell_type": "code",
   "execution_count": null,
   "id": "bd7c6e38-f398-4301-9836-5ce82e64ef78",
   "metadata": {},
   "outputs": [],
   "source": []
  }
 ],
 "metadata": {
  "kernelspec": {
   "display_name": "Python 3 (ipykernel)",
   "language": "python",
   "name": "python3"
  },
  "language_info": {
   "codemirror_mode": {
    "name": "ipython",
    "version": 3
   },
   "file_extension": ".py",
   "mimetype": "text/x-python",
   "name": "python",
   "nbconvert_exporter": "python",
   "pygments_lexer": "ipython3",
   "version": "3.9.7"
  }
 },
 "nbformat": 4,
 "nbformat_minor": 5
}
